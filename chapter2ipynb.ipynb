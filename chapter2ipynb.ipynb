{
  "cells": [
    {
      "cell_type": "markdown",
      "metadata": {
        "id": "view-in-github",
        "colab_type": "text"
      },
      "source": [
        "<a href=\"https://colab.research.google.com/github/BhavyaGoyal777/transformers-Diffusion-Models/blob/main/chapter2ipynb.ipynb\" target=\"_parent\"><img src=\"https://colab.research.google.com/assets/colab-badge.svg\" alt=\"Open In Colab\"/></a>"
      ]
    },
    {
      "cell_type": "markdown",
      "source": [],
      "metadata": {
        "id": "a5e19wGTrn4b"
      }
    },
    {
      "cell_type": "code",
      "execution_count": 5,
      "metadata": {
        "id": "B0yykSR90zDL"
      },
      "outputs": [],
      "source": [
        "from transformers import AutoTokenizer"
      ]
    },
    {
      "cell_type": "markdown",
      "source": [],
      "metadata": {
        "id": "bkubd2Z43Uj2"
      }
    },
    {
      "cell_type": "code",
      "execution_count": 9,
      "metadata": {
        "colab": {
          "base_uri": "https://localhost:8080/"
        },
        "id": "0iQdoSEM09S-",
        "outputId": "1ed19dc5-e42d-48c8-8931-3e4be3d5c251"
      },
      "outputs": [
        {
          "output_type": "stream",
          "name": "stdout",
          "text": [
            "tensor([1425,  674,  549,  326, 1701], device='cuda:0') \t: beating me u why\n"
          ]
        }
      ],
      "source": [
        "for t in input_ids:\n",
        "  print(t,\"\\t:\", tokenizer.decode(t))"
      ]
    },
    {
      "cell_type": "code",
      "source": [
        "from transformers import AutoTokenizer\n",
        "tokenizer=AutoTokenizer.from_pretrained(\"HuggingFaceTB/SmolLM-1.7B\")"
      ],
      "metadata": {
        "colab": {
          "base_uri": "https://localhost:8080/",
          "height": 304,
          "referenced_widgets": [
            "e325bd744c7d40ecbbd93e61dc37217b",
            "15d6392298e34dfd892d7e00603cff01",
            "f1f5328d0ac0404694cfcc6dd06e8170",
            "f04a0f6524f9455bb281b8d0043b1c44",
            "2ad5c78995fb4fa7a66da28782cad25a",
            "4fc35a9dadc54d33aa9ab8ee022f6293",
            "bf5509cc31914c59848e5f1c0be4f074",
            "1036565bc9654c64aea5268669e771be",
            "c47191cb4ba747b6bef78d9c44e1e4fb",
            "11b2dd3bfa7c44699018a7e0f959222a",
            "76ecd7ef6a9f4479828eccc7b0d41df7",
            "0b2d7bbdf7b44f5c883de228dae88268",
            "e6bd7d0a731c4248b26d2c7d67f74137",
            "d43e78418d1246fd90c7756574b6f5dc",
            "d3bdc1ac8c3a4c549995bf99be1e9112",
            "131a7c35a96148a298f08bff3caecad9",
            "881872c593194b4198bd8a4cbd7aa429",
            "cdab3465da02481da7897ee47f273c17",
            "c89d5dfb609d4ef99b58402e2ace5bdb",
            "65e7a8f908194fcb8759fa243cba97a0",
            "2afe2879ad324535bf54164b1b67bafc",
            "6d20bb87f4c843d99e228ad79cbd562d",
            "ca56da1a5bc642b489e030e190d18c30",
            "6e850646645a42ee9dde18bb6bbaec0e",
            "ce4b089068c146d795221c8f001e2717",
            "9e02c092a0d34d37b89f100534471850",
            "f6449af03a6748398250aed3cd5719eb",
            "9038f60a37774d509a6f539c13218497",
            "a202e2481e7b4cc19811ff06d6e61deb",
            "1f4b94e6bfcd4ae6a857585ee29beb72",
            "9e31960e0f7d44bd81127695b926a57b",
            "27f0d624606e49f6848d9df5ea0641a4",
            "a1a0ceee55f54f898091759abe9e431a",
            "074261ef44024d71a0469e6b3d50c493",
            "2ce6f4b216af470a9b27abe2f6237e6e",
            "f971d3d1a2614a4c91b3e2c331018522",
            "159514de1be3449094b8a3150cc92f8a",
            "ae974fd114dd46e8816ffefc793e5027",
            "2dc96ede897243c593f72641352e9271",
            "e5616a3036be4648927ff4c9451cfa7b",
            "64f57f6fbc8a4dbe9429ea3c739d3ac2",
            "df3c46111ac84873a29152c0ea325dc4",
            "19b306cf179a445cb8b878f77773944b",
            "36b8a417b6d5415c8c51efabee342efa",
            "fe9c957f793d4b9ead3ce8572fb06a1b",
            "cbd0dce27cb7471499dd755defad6482",
            "ae91eaf85f91482da6efddd981e62f8b",
            "eb82a9ed340d4a348e72015bfb832e06",
            "2d6238b5c77e4e638a1cc134a8372c2a",
            "22acaa01da58455c8ecfe1d327960125",
            "e49b88d8ed7146afab9c1042167874aa",
            "18f63421db494616bdd6d52b615dfc90",
            "ea91edacea4642648becea30b31ad2f4",
            "3bb0b97c1ee84107a74edf4b4b33fcde",
            "de697170dd914824bcdba31642784eeb"
          ]
        },
        "id": "EUpRdZ4Br8z_",
        "outputId": "973af177-efdb-4b53-878a-1b8d074ebd3a"
      },
      "execution_count": 5,
      "outputs": [
        {
          "output_type": "stream",
          "name": "stderr",
          "text": [
            "/usr/local/lib/python3.11/dist-packages/huggingface_hub/utils/_auth.py:94: UserWarning: \n",
            "The secret `HF_TOKEN` does not exist in your Colab secrets.\n",
            "To authenticate with the Hugging Face Hub, create a token in your settings tab (https://huggingface.co/settings/tokens), set it as secret in your Google Colab and restart your session.\n",
            "You will be able to reuse this secret in all of your notebooks.\n",
            "Please note that authentication is recommended but still optional to access public models or datasets.\n",
            "  warnings.warn(\n"
          ]
        },
        {
          "output_type": "display_data",
          "data": {
            "text/plain": [
              "tokenizer_config.json:   0%|          | 0.00/3.66k [00:00<?, ?B/s]"
            ],
            "application/vnd.jupyter.widget-view+json": {
              "version_major": 2,
              "version_minor": 0,
              "model_id": "e325bd744c7d40ecbbd93e61dc37217b"
            }
          },
          "metadata": {}
        },
        {
          "output_type": "display_data",
          "data": {
            "text/plain": [
              "vocab.json:   0%|          | 0.00/801k [00:00<?, ?B/s]"
            ],
            "application/vnd.jupyter.widget-view+json": {
              "version_major": 2,
              "version_minor": 0,
              "model_id": "0b2d7bbdf7b44f5c883de228dae88268"
            }
          },
          "metadata": {}
        },
        {
          "output_type": "display_data",
          "data": {
            "text/plain": [
              "merges.txt:   0%|          | 0.00/466k [00:00<?, ?B/s]"
            ],
            "application/vnd.jupyter.widget-view+json": {
              "version_major": 2,
              "version_minor": 0,
              "model_id": "ca56da1a5bc642b489e030e190d18c30"
            }
          },
          "metadata": {}
        },
        {
          "output_type": "display_data",
          "data": {
            "text/plain": [
              "tokenizer.json:   0%|          | 0.00/2.10M [00:00<?, ?B/s]"
            ],
            "application/vnd.jupyter.widget-view+json": {
              "version_major": 2,
              "version_minor": 0,
              "model_id": "074261ef44024d71a0469e6b3d50c493"
            }
          },
          "metadata": {}
        },
        {
          "output_type": "display_data",
          "data": {
            "text/plain": [
              "special_tokens_map.json:   0%|          | 0.00/831 [00:00<?, ?B/s]"
            ],
            "application/vnd.jupyter.widget-view+json": {
              "version_major": 2,
              "version_minor": 0,
              "model_id": "fe9c957f793d4b9ead3ce8572fb06a1b"
            }
          },
          "metadata": {}
        }
      ]
    },
    {
      "cell_type": "code",
      "execution_count": 6,
      "metadata": {
        "colab": {
          "base_uri": "https://localhost:8080/",
          "height": 297,
          "referenced_widgets": [
            "d049c82372034a4893e04347a0122e3b",
            "f9c7fae87c3448179ff8874926f576ae",
            "febae66e5aab4758ab5dc8bfd8cd6ca6",
            "302581c61a784be2bc81644f169f8983",
            "d73e190beeae48218ff495995c7a6a35",
            "3d2cba9103814aa18a1bd2ddcefe1c4b",
            "8774cecba449414493413966c58038e6",
            "28240571a0714abeae5355ab4c19cd0d",
            "7f5e79d8edef4aac905d684751f53be1",
            "d4a9ef4880c24c7bba25ea1aec90e0a3",
            "45c42196dc8444dea33f247b40146d74",
            "67594ac237b54af58db06ec50dff8d86",
            "0333843d92c448199fabfd8394f1e70a",
            "9b357abb443741f7aa0fbbcd6b2f8df0",
            "0216ed6a3dd84905bc8ee0225e4f4673",
            "f70668f0ffe4466fa2a0e6f0fb72d132",
            "00328f2330bb4844a76436f2bdf1685f",
            "fb1b7b7139a946568692e0552ea7d70c",
            "2f02caff94d8402592ae98f54088769c",
            "9d70523cd5494c29a1878d2656462ea4",
            "19bf3450f6814592b9e958347902efd1",
            "9c7de0b90a0e48248450dc995f6570d8",
            "0aebda03c9334f3696bcb62a57b8a43a",
            "7cd9f3c9a99648b1b25bc53c7ef41d82",
            "86586e13f136446a9cb77bd85883cd29",
            "3b45e1a4d32147e886cbf245298ccc70",
            "c3c71fc8d07f4eab84e3c7c1bd40a2c3",
            "bba0752547c44bbabdf765943db5bb21",
            "4088679e6a354b108c6fe9fc7e23f56a",
            "b2aeeef7b1ab4f858c3d000d30a7f20d",
            "e7b09fe457a4469ea897a3b6a091c9fb",
            "04f2ada2f62a456bb54858eca4df8727",
            "cff9951dd6514ccb9a10be36e78930ac",
            "d9d595108ced4eb596100570f2c31d68",
            "d50620ad3d7940bf8d4400a55e56ec08",
            "377def2bbc7d40838ee993464471d181",
            "640d6187f5ce40f7b8e842ee141d287f",
            "ddfdd22237e745e9a7a24745eba242e5",
            "ab4662240e4c44e2b2c48202c56cf896",
            "be0cf274b65e4530ac487f53c9401f57",
            "bf3485cc2c184342a949b134ff95af87",
            "e1827c0ec2eb4042a6b94cf776414942",
            "e48f5db038e34b05b5731ae5fbb3fcdc",
            "b559b04834df49abad369372895a863d",
            "e16868e5c1d144b1a82bb50823989c09",
            "066bccd098804e35ac6fc429236656d1",
            "6199aed1b8a9423ea5cbd3817bd956ed",
            "568c3aa00da24b029129b7c30f757753",
            "1ff8adad9165478392c856441a8342ac",
            "e276a90b996e4fa3952967189dda312e",
            "fb09403c5d354bbe99c5d89ee44faa22",
            "642c4667343f44ab9f4f92d91858171d",
            "6335a435861241ca9d79ed8591247a85",
            "60ed4bf72a82486aa1272fa54b44f1d9",
            "6c259978bfb8403bad6d9da690eee130",
            "093c091555f5490ba54cf12f68bdde40",
            "ba901fd54a2a4660b5d330142cfe58bd",
            "59f3a4eba4f0458a99b03f06fe06dc1a",
            "05a480f306924f26959fafd77dff3b71",
            "9a5ce40927e2419a81b602876e146822",
            "6e00232992da4665a5a84bbbe4d3b795",
            "9d037a18786e46ae87ba08ea0e752d44",
            "297478fef1c3472885794afddde992a3",
            "18bd52674ae8416699cf6fb07b52ab17",
            "ae1be58eaece453b96fb0f352bcdec3d",
            "f67ea41c9d264b6cbb86c257761bf210",
            "63219ca7ed554d6f88e7325b100308c6",
            "355c6949f76745549f028c2270e1a960",
            "bb1bd64fe2fb458bb86de3bde21fdf0d",
            "807b2f061e47402eae58b2754579b011",
            "ecd2305dca3a406bac75ef4c35cb9ed4",
            "b6f62589bb8047c998c74cd5fe12141b",
            "bfe4244bce28453ba8c3b6688b1d5c59",
            "93a401e2630047d9b63dec3f181d98db",
            "d3d2cb79d52e44c6b1efc0a87cb24b95",
            "04a31e5aa576483484ed673f8f7cca61",
            "39a5bf3d42144cfc983a6e6172d5d5f0"
          ]
        },
        "id": "j61Kv2Yq09Z9",
        "outputId": "5a39c5fa-7b6e-455e-dfd4-5ac1839c91b4"
      },
      "outputs": [
        {
          "output_type": "display_data",
          "data": {
            "text/plain": [
              "config.json:   0%|          | 0.00/698 [00:00<?, ?B/s]"
            ],
            "application/vnd.jupyter.widget-view+json": {
              "version_major": 2,
              "version_minor": 0,
              "model_id": "d049c82372034a4893e04347a0122e3b"
            }
          },
          "metadata": {}
        },
        {
          "output_type": "display_data",
          "data": {
            "text/plain": [
              "model.safetensors.index.json:   0%|          | 0.00/17.9k [00:00<?, ?B/s]"
            ],
            "application/vnd.jupyter.widget-view+json": {
              "version_major": 2,
              "version_minor": 0,
              "model_id": "67594ac237b54af58db06ec50dff8d86"
            }
          },
          "metadata": {}
        },
        {
          "output_type": "display_data",
          "data": {
            "text/plain": [
              "Downloading shards:   0%|          | 0/2 [00:00<?, ?it/s]"
            ],
            "application/vnd.jupyter.widget-view+json": {
              "version_major": 2,
              "version_minor": 0,
              "model_id": "0aebda03c9334f3696bcb62a57b8a43a"
            }
          },
          "metadata": {}
        },
        {
          "output_type": "display_data",
          "data": {
            "text/plain": [
              "model-00001-of-00002.safetensors:   0%|          | 0.00/5.00G [00:00<?, ?B/s]"
            ],
            "application/vnd.jupyter.widget-view+json": {
              "version_major": 2,
              "version_minor": 0,
              "model_id": "d9d595108ced4eb596100570f2c31d68"
            }
          },
          "metadata": {}
        },
        {
          "output_type": "display_data",
          "data": {
            "text/plain": [
              "model-00002-of-00002.safetensors:   0%|          | 0.00/1.85G [00:00<?, ?B/s]"
            ],
            "application/vnd.jupyter.widget-view+json": {
              "version_major": 2,
              "version_minor": 0,
              "model_id": "e16868e5c1d144b1a82bb50823989c09"
            }
          },
          "metadata": {}
        },
        {
          "output_type": "display_data",
          "data": {
            "text/plain": [
              "Loading checkpoint shards:   0%|          | 0/2 [00:00<?, ?it/s]"
            ],
            "application/vnd.jupyter.widget-view+json": {
              "version_major": 2,
              "version_minor": 0,
              "model_id": "093c091555f5490ba54cf12f68bdde40"
            }
          },
          "metadata": {}
        },
        {
          "output_type": "display_data",
          "data": {
            "text/plain": [
              "generation_config.json:   0%|          | 0.00/111 [00:00<?, ?B/s]"
            ],
            "application/vnd.jupyter.widget-view+json": {
              "version_major": 2,
              "version_minor": 0,
              "model_id": "63219ca7ed554d6f88e7325b100308c6"
            }
          },
          "metadata": {}
        }
      ],
      "source": [
        "from transformers import AutoModelForCausalLM\n",
        "\n",
        "model = AutoModelForCausalLM.from_pretrained(\"HuggingFaceTB/SmolLM-1.7B\").to(device)"
      ]
    },
    {
      "cell_type": "code",
      "execution_count": 8,
      "metadata": {
        "colab": {
          "base_uri": "https://localhost:8080/"
        },
        "id": "qslLmBTZ09gX",
        "outputId": "f64fce1c-aa63-4c6c-e74a-db69cac0292d"
      },
      "outputs": [
        {
          "output_type": "execute_result",
          "data": {
            "text/plain": [
              "torch.Size([1, 5, 49152])"
            ]
          },
          "metadata": {},
          "execution_count": 8
        }
      ],
      "source": [
        "input_ids = tokenizer(prompt, return_tensors=\"pt\").input_ids.to(device)\n",
        "\n",
        "outputs = model(input_ids)\n",
        "outputs.logits.shape  # An output for each input token"
      ]
    },
    {
      "cell_type": "code",
      "execution_count": 10,
      "metadata": {
        "colab": {
          "base_uri": "https://localhost:8080/"
        },
        "id": "DvDzf5md09mS",
        "outputId": "5485ee14-7de6-40b6-ffb6-2cff37eb69e6"
      },
      "outputs": [
        {
          "output_type": "execute_result",
          "data": {
            "text/plain": [
              "tensor(2056, device='cuda:0')"
            ]
          },
          "metadata": {},
          "execution_count": 10
        }
      ],
      "source": [
        "final_logits = model(input_ids).logits[0, -1]  # The last set of logits\n",
        "final_logits.argmax()  # The position of the maximum"
      ]
    },
    {
      "cell_type": "code",
      "execution_count": 11,
      "metadata": {
        "colab": {
          "base_uri": "https://localhost:8080/",
          "height": 35
        },
        "id": "_bVCdj1x09qq",
        "outputId": "8806e2ec-9365-4a94-d6f1-ff08fedb5704"
      },
      "outputs": [
        {
          "output_type": "execute_result",
          "data": {
            "text/plain": [
              "' i'"
            ],
            "application/vnd.google.colaboratory.intrinsic+json": {
              "type": "string"
            }
          },
          "metadata": {},
          "execution_count": 11
        }
      ],
      "source": [
        "tokenizer.decode(final_logits.argmax())"
      ]
    },
    {
      "cell_type": "code",
      "execution_count": 3,
      "metadata": {
        "colab": {
          "base_uri": "https://localhost:8080/"
        },
        "id": "11cy4J5t09uo",
        "outputId": "041a9dff-de6f-4c3d-80df-659d9fb5bc18"
      },
      "outputs": [
        {
          "output_type": "stream",
          "name": "stdout",
          "text": [
            "Requirement already satisfied: genaibook in /usr/local/lib/python3.11/dist-packages (0.1.1)\n",
            "Requirement already satisfied: accelerate in /usr/local/lib/python3.11/dist-packages (from genaibook) (1.2.1)\n",
            "Requirement already satisfied: sentencepiece in /usr/local/lib/python3.11/dist-packages (from genaibook) (0.2.0)\n",
            "Requirement already satisfied: fastcore in /usr/local/lib/python3.11/dist-packages (from genaibook) (1.7.28)\n",
            "Requirement already satisfied: pandas in /usr/local/lib/python3.11/dist-packages (from genaibook) (2.2.2)\n",
            "Requirement already satisfied: torch in /usr/local/lib/python3.11/dist-packages (from genaibook) (2.5.1+cu124)\n",
            "Requirement already satisfied: torchvision in /usr/local/lib/python3.11/dist-packages (from genaibook) (0.20.1+cu124)\n",
            "Requirement already satisfied: torchaudio in /usr/local/lib/python3.11/dist-packages (from genaibook) (2.5.1+cu124)\n",
            "Requirement already satisfied: torchsummary in /usr/local/lib/python3.11/dist-packages (from genaibook) (1.5.1)\n",
            "Requirement already satisfied: pillow in /usr/local/lib/python3.11/dist-packages (from genaibook) (11.1.0)\n",
            "Requirement already satisfied: matplotlib in /usr/local/lib/python3.11/dist-packages (from genaibook) (3.10.0)\n",
            "Requirement already satisfied: numpy in /usr/local/lib/python3.11/dist-packages (from genaibook) (1.26.4)\n",
            "Requirement already satisfied: scipy in /usr/local/lib/python3.11/dist-packages (from genaibook) (1.13.1)\n",
            "Requirement already satisfied: librosa in /usr/local/lib/python3.11/dist-packages (from genaibook) (0.10.2.post1)\n",
            "Requirement already satisfied: diffusers in /usr/local/lib/python3.11/dist-packages (from genaibook) (0.32.2)\n",
            "Requirement already satisfied: transformers in /usr/local/lib/python3.11/dist-packages (from genaibook) (4.47.1)\n",
            "Requirement already satisfied: sentence-transformers in /usr/local/lib/python3.11/dist-packages (from genaibook) (3.3.1)\n",
            "Requirement already satisfied: bitsandbytes in /usr/local/lib/python3.11/dist-packages (from genaibook) (0.45.1)\n",
            "Requirement already satisfied: datasets[audio] in /usr/local/lib/python3.11/dist-packages (from genaibook) (3.2.0)\n",
            "Requirement already satisfied: jiwer in /usr/local/lib/python3.11/dist-packages (from genaibook) (3.0.5)\n",
            "Requirement already satisfied: evaluate in /usr/local/lib/python3.11/dist-packages (from genaibook) (0.4.3)\n",
            "Requirement already satisfied: pydub in /usr/local/lib/python3.11/dist-packages (from genaibook) (0.25.1)\n",
            "Requirement already satisfied: compel in /usr/local/lib/python3.11/dist-packages (from genaibook) (2.0.3)\n",
            "Requirement already satisfied: mediapipe in /usr/local/lib/python3.11/dist-packages (from genaibook) (0.10.20)\n",
            "Requirement already satisfied: controlnet-aux in /usr/local/lib/python3.11/dist-packages (from genaibook) (0.0.9)\n",
            "Requirement already satisfied: peft in /usr/local/lib/python3.11/dist-packages (from genaibook) (0.14.0)\n",
            "Requirement already satisfied: packaging>=20.0 in /usr/local/lib/python3.11/dist-packages (from accelerate->genaibook) (24.2)\n",
            "Requirement already satisfied: psutil in /usr/local/lib/python3.11/dist-packages (from accelerate->genaibook) (5.9.5)\n",
            "Requirement already satisfied: pyyaml in /usr/local/lib/python3.11/dist-packages (from accelerate->genaibook) (6.0.2)\n",
            "Requirement already satisfied: huggingface-hub>=0.21.0 in /usr/local/lib/python3.11/dist-packages (from accelerate->genaibook) (0.27.1)\n",
            "Requirement already satisfied: safetensors>=0.4.3 in /usr/local/lib/python3.11/dist-packages (from accelerate->genaibook) (0.5.2)\n",
            "Requirement already satisfied: filelock in /usr/local/lib/python3.11/dist-packages (from torch->genaibook) (3.17.0)\n",
            "Requirement already satisfied: typing-extensions>=4.8.0 in /usr/local/lib/python3.11/dist-packages (from torch->genaibook) (4.12.2)\n",
            "Requirement already satisfied: networkx in /usr/local/lib/python3.11/dist-packages (from torch->genaibook) (3.4.2)\n",
            "Requirement already satisfied: jinja2 in /usr/local/lib/python3.11/dist-packages (from torch->genaibook) (3.1.5)\n",
            "Requirement already satisfied: fsspec in /usr/local/lib/python3.11/dist-packages (from torch->genaibook) (2024.9.0)\n",
            "Requirement already satisfied: nvidia-cuda-nvrtc-cu12==12.4.127 in /usr/local/lib/python3.11/dist-packages (from torch->genaibook) (12.4.127)\n",
            "Requirement already satisfied: nvidia-cuda-runtime-cu12==12.4.127 in /usr/local/lib/python3.11/dist-packages (from torch->genaibook) (12.4.127)\n",
            "Requirement already satisfied: nvidia-cuda-cupti-cu12==12.4.127 in /usr/local/lib/python3.11/dist-packages (from torch->genaibook) (12.4.127)\n",
            "Requirement already satisfied: nvidia-cudnn-cu12==9.1.0.70 in /usr/local/lib/python3.11/dist-packages (from torch->genaibook) (9.1.0.70)\n",
            "Requirement already satisfied: nvidia-cublas-cu12==12.4.5.8 in /usr/local/lib/python3.11/dist-packages (from torch->genaibook) (12.4.5.8)\n",
            "Requirement already satisfied: nvidia-cufft-cu12==11.2.1.3 in /usr/local/lib/python3.11/dist-packages (from torch->genaibook) (11.2.1.3)\n",
            "Requirement already satisfied: nvidia-curand-cu12==10.3.5.147 in /usr/local/lib/python3.11/dist-packages (from torch->genaibook) (10.3.5.147)\n",
            "Requirement already satisfied: nvidia-cusolver-cu12==11.6.1.9 in /usr/local/lib/python3.11/dist-packages (from torch->genaibook) (11.6.1.9)\n",
            "Requirement already satisfied: nvidia-cusparse-cu12==12.3.1.170 in /usr/local/lib/python3.11/dist-packages (from torch->genaibook) (12.3.1.170)\n",
            "Requirement already satisfied: nvidia-nccl-cu12==2.21.5 in /usr/local/lib/python3.11/dist-packages (from torch->genaibook) (2.21.5)\n",
            "Requirement already satisfied: nvidia-nvtx-cu12==12.4.127 in /usr/local/lib/python3.11/dist-packages (from torch->genaibook) (12.4.127)\n",
            "Requirement already satisfied: nvidia-nvjitlink-cu12==12.4.127 in /usr/local/lib/python3.11/dist-packages (from torch->genaibook) (12.4.127)\n",
            "Requirement already satisfied: triton==3.1.0 in /usr/local/lib/python3.11/dist-packages (from torch->genaibook) (3.1.0)\n",
            "Requirement already satisfied: sympy==1.13.1 in /usr/local/lib/python3.11/dist-packages (from torch->genaibook) (1.13.1)\n",
            "Requirement already satisfied: mpmath<1.4,>=1.1.0 in /usr/local/lib/python3.11/dist-packages (from sympy==1.13.1->torch->genaibook) (1.3.0)\n",
            "Requirement already satisfied: pyparsing~=3.0 in /usr/local/lib/python3.11/dist-packages (from compel->genaibook) (3.2.1)\n",
            "Requirement already satisfied: importlib-metadata in /usr/local/lib/python3.11/dist-packages (from diffusers->genaibook) (8.6.1)\n",
            "Requirement already satisfied: regex!=2019.12.17 in /usr/local/lib/python3.11/dist-packages (from diffusers->genaibook) (2024.11.6)\n",
            "Requirement already satisfied: requests in /usr/local/lib/python3.11/dist-packages (from diffusers->genaibook) (2.32.3)\n",
            "Requirement already satisfied: tokenizers<0.22,>=0.21 in /usr/local/lib/python3.11/dist-packages (from transformers->genaibook) (0.21.0)\n",
            "Requirement already satisfied: tqdm>=4.27 in /usr/local/lib/python3.11/dist-packages (from transformers->genaibook) (4.67.1)\n",
            "Requirement already satisfied: opencv-python-headless in /usr/local/lib/python3.11/dist-packages (from controlnet-aux->genaibook) (4.11.0.86)\n",
            "Requirement already satisfied: einops in /usr/local/lib/python3.11/dist-packages (from controlnet-aux->genaibook) (0.8.0)\n",
            "Requirement already satisfied: timm<=0.6.7 in /usr/local/lib/python3.11/dist-packages (from controlnet-aux->genaibook) (0.6.7)\n",
            "Requirement already satisfied: scikit-image in /usr/local/lib/python3.11/dist-packages (from controlnet-aux->genaibook) (0.25.1)\n",
            "Requirement already satisfied: pyarrow>=15.0.0 in /usr/local/lib/python3.11/dist-packages (from datasets[audio]->genaibook) (17.0.0)\n",
            "Requirement already satisfied: dill<0.3.9,>=0.3.0 in /usr/local/lib/python3.11/dist-packages (from datasets[audio]->genaibook) (0.3.8)\n",
            "Requirement already satisfied: xxhash in /usr/local/lib/python3.11/dist-packages (from datasets[audio]->genaibook) (3.5.0)\n",
            "Requirement already satisfied: multiprocess<0.70.17 in /usr/local/lib/python3.11/dist-packages (from datasets[audio]->genaibook) (0.70.16)\n",
            "Requirement already satisfied: aiohttp in /usr/local/lib/python3.11/dist-packages (from datasets[audio]->genaibook) (3.11.11)\n",
            "Requirement already satisfied: soundfile>=0.12.1 in /usr/local/lib/python3.11/dist-packages (from datasets[audio]->genaibook) (0.13.1)\n",
            "Requirement already satisfied: soxr>=0.4.0 in /usr/local/lib/python3.11/dist-packages (from datasets[audio]->genaibook) (0.5.0.post1)\n",
            "Requirement already satisfied: click<9.0.0,>=8.1.3 in /usr/local/lib/python3.11/dist-packages (from jiwer->genaibook) (8.1.8)\n",
            "Requirement already satisfied: rapidfuzz<4,>=3 in /usr/local/lib/python3.11/dist-packages (from jiwer->genaibook) (3.11.0)\n",
            "Requirement already satisfied: audioread>=2.1.9 in /usr/local/lib/python3.11/dist-packages (from librosa->genaibook) (3.0.1)\n",
            "Requirement already satisfied: scikit-learn>=0.20.0 in /usr/local/lib/python3.11/dist-packages (from librosa->genaibook) (1.6.1)\n",
            "Requirement already satisfied: joblib>=0.14 in /usr/local/lib/python3.11/dist-packages (from librosa->genaibook) (1.4.2)\n",
            "Requirement already satisfied: decorator>=4.3.0 in /usr/local/lib/python3.11/dist-packages (from librosa->genaibook) (4.4.2)\n",
            "Requirement already satisfied: numba>=0.51.0 in /usr/local/lib/python3.11/dist-packages (from librosa->genaibook) (0.60.0)\n",
            "Requirement already satisfied: pooch>=1.1 in /usr/local/lib/python3.11/dist-packages (from librosa->genaibook) (1.8.2)\n",
            "Requirement already satisfied: lazy-loader>=0.1 in /usr/local/lib/python3.11/dist-packages (from librosa->genaibook) (0.4)\n",
            "Requirement already satisfied: msgpack>=1.0 in /usr/local/lib/python3.11/dist-packages (from librosa->genaibook) (1.1.0)\n",
            "Requirement already satisfied: contourpy>=1.0.1 in /usr/local/lib/python3.11/dist-packages (from matplotlib->genaibook) (1.3.1)\n",
            "Requirement already satisfied: cycler>=0.10 in /usr/local/lib/python3.11/dist-packages (from matplotlib->genaibook) (0.12.1)\n",
            "Requirement already satisfied: fonttools>=4.22.0 in /usr/local/lib/python3.11/dist-packages (from matplotlib->genaibook) (4.55.6)\n",
            "Requirement already satisfied: kiwisolver>=1.3.1 in /usr/local/lib/python3.11/dist-packages (from matplotlib->genaibook) (1.4.8)\n",
            "Requirement already satisfied: python-dateutil>=2.7 in /usr/local/lib/python3.11/dist-packages (from matplotlib->genaibook) (2.8.2)\n",
            "Requirement already satisfied: absl-py in /usr/local/lib/python3.11/dist-packages (from mediapipe->genaibook) (1.4.0)\n",
            "Requirement already satisfied: attrs>=19.1.0 in /usr/local/lib/python3.11/dist-packages (from mediapipe->genaibook) (25.1.0)\n",
            "Requirement already satisfied: flatbuffers>=2.0 in /usr/local/lib/python3.11/dist-packages (from mediapipe->genaibook) (25.1.24)\n",
            "Requirement already satisfied: jax in /usr/local/lib/python3.11/dist-packages (from mediapipe->genaibook) (0.4.33)\n",
            "Requirement already satisfied: jaxlib in /usr/local/lib/python3.11/dist-packages (from mediapipe->genaibook) (0.4.33)\n",
            "Requirement already satisfied: opencv-contrib-python in /usr/local/lib/python3.11/dist-packages (from mediapipe->genaibook) (4.10.0.84)\n",
            "Requirement already satisfied: protobuf<5,>=4.25.3 in /usr/local/lib/python3.11/dist-packages (from mediapipe->genaibook) (4.25.6)\n",
            "Requirement already satisfied: sounddevice>=0.4.4 in /usr/local/lib/python3.11/dist-packages (from mediapipe->genaibook) (0.5.1)\n",
            "Requirement already satisfied: pytz>=2020.1 in /usr/local/lib/python3.11/dist-packages (from pandas->genaibook) (2024.2)\n",
            "Requirement already satisfied: tzdata>=2022.7 in /usr/local/lib/python3.11/dist-packages (from pandas->genaibook) (2025.1)\n",
            "Requirement already satisfied: aiohappyeyeballs>=2.3.0 in /usr/local/lib/python3.11/dist-packages (from aiohttp->datasets[audio]->genaibook) (2.4.4)\n",
            "Requirement already satisfied: aiosignal>=1.1.2 in /usr/local/lib/python3.11/dist-packages (from aiohttp->datasets[audio]->genaibook) (1.3.2)\n",
            "Requirement already satisfied: frozenlist>=1.1.1 in /usr/local/lib/python3.11/dist-packages (from aiohttp->datasets[audio]->genaibook) (1.5.0)\n",
            "Requirement already satisfied: multidict<7.0,>=4.5 in /usr/local/lib/python3.11/dist-packages (from aiohttp->datasets[audio]->genaibook) (6.1.0)\n",
            "Requirement already satisfied: propcache>=0.2.0 in /usr/local/lib/python3.11/dist-packages (from aiohttp->datasets[audio]->genaibook) (0.2.1)\n",
            "Requirement already satisfied: yarl<2.0,>=1.17.0 in /usr/local/lib/python3.11/dist-packages (from aiohttp->datasets[audio]->genaibook) (1.18.3)\n",
            "Requirement already satisfied: llvmlite<0.44,>=0.43.0dev0 in /usr/local/lib/python3.11/dist-packages (from numba>=0.51.0->librosa->genaibook) (0.43.0)\n",
            "Requirement already satisfied: platformdirs>=2.5.0 in /usr/local/lib/python3.11/dist-packages (from pooch>=1.1->librosa->genaibook) (4.3.6)\n",
            "Requirement already satisfied: six>=1.5 in /usr/local/lib/python3.11/dist-packages (from python-dateutil>=2.7->matplotlib->genaibook) (1.17.0)\n",
            "Requirement already satisfied: charset-normalizer<4,>=2 in /usr/local/lib/python3.11/dist-packages (from requests->diffusers->genaibook) (3.4.1)\n",
            "Requirement already satisfied: idna<4,>=2.5 in /usr/local/lib/python3.11/dist-packages (from requests->diffusers->genaibook) (3.10)\n",
            "Requirement already satisfied: urllib3<3,>=1.21.1 in /usr/local/lib/python3.11/dist-packages (from requests->diffusers->genaibook) (2.3.0)\n",
            "Requirement already satisfied: certifi>=2017.4.17 in /usr/local/lib/python3.11/dist-packages (from requests->diffusers->genaibook) (2024.12.14)\n",
            "Requirement already satisfied: threadpoolctl>=3.1.0 in /usr/local/lib/python3.11/dist-packages (from scikit-learn>=0.20.0->librosa->genaibook) (3.5.0)\n",
            "Requirement already satisfied: CFFI>=1.0 in /usr/local/lib/python3.11/dist-packages (from sounddevice>=0.4.4->mediapipe->genaibook) (1.17.1)\n",
            "Requirement already satisfied: zipp>=3.20 in /usr/local/lib/python3.11/dist-packages (from importlib-metadata->diffusers->genaibook) (3.21.0)\n",
            "Requirement already satisfied: ml-dtypes>=0.2.0 in /usr/local/lib/python3.11/dist-packages (from jax->mediapipe->genaibook) (0.4.1)\n",
            "Requirement already satisfied: opt-einsum in /usr/local/lib/python3.11/dist-packages (from jax->mediapipe->genaibook) (3.4.0)\n",
            "Requirement already satisfied: MarkupSafe>=2.0 in /usr/local/lib/python3.11/dist-packages (from jinja2->torch->genaibook) (3.0.2)\n",
            "Requirement already satisfied: imageio!=2.35.0,>=2.33 in /usr/local/lib/python3.11/dist-packages (from scikit-image->controlnet-aux->genaibook) (2.36.1)\n",
            "Requirement already satisfied: tifffile>=2022.8.12 in /usr/local/lib/python3.11/dist-packages (from scikit-image->controlnet-aux->genaibook) (2025.1.10)\n",
            "Requirement already satisfied: pycparser in /usr/local/lib/python3.11/dist-packages (from CFFI>=1.0->sounddevice>=0.4.4->mediapipe->genaibook) (2.22)\n",
            "Using device: cuda\n"
          ]
        }
      ],
      "source": [
        "!pip install genaibook\n",
        "from genaibook.core import get_device\n",
        "\n",
        "device = get_device()\n",
        "print(f\"Using device: {device}\")"
      ]
    },
    {
      "cell_type": "code",
      "execution_count": 13,
      "metadata": {
        "colab": {
          "base_uri": "https://localhost:8080/"
        },
        "id": "iPIzkUTY09x9",
        "outputId": "2c6bb7db-df63-4601-bba0-4156a13ed3f9"
      },
      "outputs": [
        {
          "output_type": "stream",
          "name": "stdout",
          "text": [
            " i\n",
            " do\n",
            " u\n",
            "?\n",
            " are\n",
            " did\n",
            " I\n",
            " is\n",
            " you\n",
            " can\n"
          ]
        }
      ],
      "source": [
        "import torch\n",
        "\n",
        "top10_logits = torch.topk(final_logits, 10)\n",
        "for index in top10_logits.indices:\n",
        "    print(tokenizer.decode(index))\n"
      ]
    },
    {
      "cell_type": "code",
      "execution_count": 14,
      "metadata": {
        "colab": {
          "base_uri": "https://localhost:8080/"
        },
        "id": "K7dc-cF7-cNf",
        "outputId": "a8a396a6-d680-43ab-994b-f6548315c594"
      },
      "outputs": [
        {
          "output_type": "execute_result",
          "data": {
            "text/plain": [
              "torch.return_types.topk(\n",
              "values=tensor([18.4321, 18.4075, 18.3706, 18.3329, 18.2672, 18.1714, 17.8610, 17.8155,\n",
              "        17.7106, 17.5954], device='cuda:0', grad_fn=<TopkBackward0>),\n",
              "indices=tensor([2056,  536,  326,   47,  359, 1250,  339,  314,  346,  416],\n",
              "       device='cuda:0'))"
            ]
          },
          "metadata": {},
          "execution_count": 14
        }
      ],
      "source": [
        "top10_logits"
      ]
    },
    {
      "cell_type": "code",
      "execution_count": 15,
      "metadata": {
        "colab": {
          "base_uri": "https://localhost:8080/"
        },
        "id": "vjSPCnWf091n",
        "outputId": "78bffbf9-bf0a-4c5e-fb58-27a57cb0233a"
      },
      "outputs": [
        {
          "output_type": "stream",
          "name": "stdout",
          "text": [
            " i         6.94%\n",
            " do        6.77%\n",
            " u         6.52%\n",
            "?          6.28%\n",
            " are       5.88%\n",
            " did       5.34%\n",
            " I         3.92%\n",
            " is        3.74%\n",
            " you       3.37%\n",
            " can       3.00%\n"
          ]
        }
      ],
      "source": [
        "\n",
        "top10 = torch.topk(final_logits.softmax(dim=0), 10)\n",
        "for value, index in zip(top10.values, top10.indices):\n",
        "    print(f\"{tokenizer.decode(index):<10} {value.item():.2%}\")"
      ]
    },
    {
      "cell_type": "code",
      "execution_count": 16,
      "metadata": {
        "colab": {
          "base_uri": "https://localhost:8080/"
        },
        "id": "K-0ZTU-E094Y",
        "outputId": "14641d8d-dfe0-4173-9798-aa21c8f08814"
      },
      "outputs": [
        {
          "output_type": "stream",
          "name": "stderr",
          "text": [
            "The attention mask and the pad token id were not set. As a consequence, you may observe unexpected behavior. Please pass your input's `attention_mask` to obtain reliable results.\n",
            "Setting `pad_token_id` to `eos_token_id`:0 for open-end generation.\n",
            "The attention mask is not set and cannot be inferred from input because pad token is same as eos token. As a consequence, you may observe unexpected behavior. Please pass your input's `attention_mask` to obtain reliable results.\n"
          ]
        },
        {
          "output_type": "stream",
          "name": "stdout",
          "text": [
            "Input IDs tensor([[1425,  674,  549,  326, 1701]], device='cuda:0')\n",
            "Output IDs tensor([[ 1425,   674,   549,   326,  1701,  2056,   744,   588, 12575,  2056,\n",
            "           744,   588, 12575,  2056,   744,   588, 12575,  2056,   744,   588,\n",
            "         12575,  2056,   744,   588, 12575]], device='cuda:0')\n",
            "Generated text: beating me u why i am so angry i am so angry i am so angry i am so angry i am so angry\n"
          ]
        }
      ],
      "source": [
        "output_ids = model.generate(input_ids, max_new_tokens=20)\n",
        "decoded_text = tokenizer.decode(output_ids[0])\n",
        "\n",
        "print(\"Input IDs\", input_ids)\n",
        "print(\"Output IDs\", output_ids)\n",
        "print(f\"Generated text: {decoded_text}\")"
      ]
    },
    {
      "cell_type": "code",
      "execution_count": 18,
      "metadata": {
        "colab": {
          "base_uri": "https://localhost:8080/"
        },
        "id": "iunW_NQlH2fL",
        "outputId": "91ef9089-230c-4bcb-d3a1-b15198031645"
      },
      "outputs": [
        {
          "output_type": "stream",
          "name": "stderr",
          "text": [
            "The attention mask and the pad token id were not set. As a consequence, you may observe unexpected behavior. Please pass your input's `attention_mask` to obtain reliable results.\n",
            "Setting `pad_token_id` to `eos_token_id`:0 for open-end generation.\n"
          ]
        },
        {
          "output_type": "stream",
          "name": "stdout",
          "text": [
            "beating me u why are you doing this to me?\n",
            "\n",
            "##### Share on other sites\n",
            "Quote:\n",
            " Original post by SneftelI don't know what you're talking about.\n",
            "\n",
            "I don't know what you're talking about.\n",
            "\n"
          ]
        }
      ],
      "source": [
        "beam_output = model.generate(\n",
        "    input_ids,\n",
        "    num_beams=5,\n",
        "    max_new_tokens=50,\n",
        ")\n",
        "\n",
        "print(tokenizer.decode(beam_output[0]))"
      ]
    },
    {
      "cell_type": "code",
      "execution_count": 19,
      "metadata": {
        "colab": {
          "base_uri": "https://localhost:8080/"
        },
        "id": "7kSOB4RVOhRR",
        "outputId": "3d94def6-5670-4381-aaea-baaf849dfd2b"
      },
      "outputs": [
        {
          "output_type": "execute_result",
          "data": {
            "text/plain": [
              "tensor([[1425,  674,  549,  326, 1701]], device='cuda:0')"
            ]
          },
          "metadata": {},
          "execution_count": 19
        }
      ],
      "source": [
        "input_ids"
      ]
    },
    {
      "cell_type": "code",
      "execution_count": 22,
      "metadata": {
        "id": "-4L_gBCEOJ43",
        "colab": {
          "base_uri": "https://localhost:8080/"
        },
        "outputId": "c5a730fa-90ae-46e8-d9a4-3718a2e8c0b9"
      },
      "outputs": [
        {
          "output_type": "stream",
          "name": "stderr",
          "text": [
            "The attention mask and the pad token id were not set. As a consequence, you may observe unexpected behavior. Please pass your input's `attention_mask` to obtain reliable results.\n",
            "Setting `pad_token_id` to `eos_token_id`:0 for open-end generation.\n"
          ]
        },
        {
          "output_type": "stream",
          "name": "stdout",
          "text": [
            "beating me u why are you doing this to me?\n",
            "\n",
            "##### Share on other sites\n",
            "Quote:\n",
            " Original post by SneftelI don't know what you're talking about, but\n"
          ]
        }
      ],
      "source": [
        "beam_output=model.generate(\n",
        "    input_ids,\n",
        "    num_beams=5,\n",
        "\n",
        "    max_new_tokens=38\n",
        ")\n",
        "print(tokenizer.decode(beam_output[0]))"
      ]
    },
    {
      "cell_type": "code",
      "source": [
        "from transformers import set_seed\n",
        "set_seed(70)\n",
        "\n",
        "sampling_output=model.generate(\n",
        "    input_ids,\n",
        "    do_sample=True,\n",
        "    max_new_tokens=34,\n",
        "    top_k=0)\n",
        "print(tokenizer.decode(sampling_output[0]))\n",
        ""
      ],
      "metadata": {
        "colab": {
          "base_uri": "https://localhost:8080/"
        },
        "id": "BQfHB5omN78E",
        "outputId": "cdafc6f6-5858-4458-d820-136e6168e99a"
      },
      "execution_count": 23,
      "outputs": [
        {
          "output_type": "stream",
          "name": "stderr",
          "text": [
            "The attention mask and the pad token id were not set. As a consequence, you may observe unexpected behavior. Please pass your input's `attention_mask` to obtain reliable results.\n",
            "Setting `pad_token_id` to `eos_token_id`:0 for open-end generation.\n"
          ]
        },
        {
          "output_type": "stream",
          "name": "stdout",
          "text": [
            "beating me u why? i havent answered\n",
            "why can you be.. homeopathy has proven to have no effect\n",
            "Sorry to brash it out like that but not because I dont find the\n"
          ]
        }
      ]
    },
    {
      "cell_type": "code",
      "source": [
        "# the temp lies in the range 0 to 1 which leads to apoaching greedy decoding\n",
        "sampling_output=model.generate(\n",
        "    input_ids,\n",
        "    do_sample=True,\n",
        "    temperature=0.001,\n",
        "    max_new_tokens=50,\n",
        "    top_k=0)\n",
        "print(tokenizer.decode(sampling_output[0]))\n",
        ""
      ],
      "metadata": {
        "colab": {
          "base_uri": "https://localhost:8080/"
        },
        "id": "og6HUnHVN8SZ",
        "outputId": "737e5fcd-ab15-48e5-e6e7-d093b54ded66"
      },
      "execution_count": 24,
      "outputs": [
        {
          "output_type": "stream",
          "name": "stderr",
          "text": [
            "The attention mask and the pad token id were not set. As a consequence, you may observe unexpected behavior. Please pass your input's `attention_mask` to obtain reliable results.\n",
            "Setting `pad_token_id` to `eos_token_id`:0 for open-end generation.\n"
          ]
        },
        {
          "output_type": "stream",
          "name": "stdout",
          "text": [
            "beating me u why i am so angry i am so angry i am so angry i am so angry i am so angry i am so angry i am so angry i am so angry i am so angry i am so angry i am so angry i am so angry i am\n"
          ]
        }
      ]
    },
    {
      "cell_type": "code",
      "source": [
        "#here the temp is more than 1 which leads to increased randomness\n",
        "sampling_output=model.generate(\n",
        "    input_ids,\n",
        "    do_sample=True,\n",
        "    max_new_tokens=34,\n",
        "    temperature=4.0,\n",
        "    top_k=0)\n",
        "print(tokenizer.decode(sampling_output[0]))\n",
        ""
      ],
      "metadata": {
        "colab": {
          "base_uri": "https://localhost:8080/"
        },
        "id": "DWcdPPKeN8aK",
        "outputId": "8deeff93-61e4-428f-fc97-0cd5ed91b808"
      },
      "execution_count": 26,
      "outputs": [
        {
          "output_type": "stream",
          "name": "stderr",
          "text": [
            "The attention mask and the pad token id were not set. As a consequence, you may observe unexpected behavior. Please pass your input's `attention_mask` to obtain reliable results.\n",
            "Setting `pad_token_id` to `eos_token_id`:0 for open-end generation.\n"
          ]
        },
        {
          "output_type": "stream",
          "name": "stdout",
          "text": [
            "beating me u why slider animpsy wishes bliss broom genres bydescription number                        iwpan particularlyz towels malaria griev pung Ross Men reservation descendantContent Registry disabled Opportunityuj cryptography Plans\t\t currently infill locomotives\n"
          ]
        }
      ]
    },
    {
      "cell_type": "code",
      "source": [
        "#now top k means first taking top k  tokens from all the generated tokens logits and then\n",
        "#redistributing probability and then using sampling to generate tokens\n",
        "\n",
        "\n",
        "sampling_output=model.generate(\n",
        "    input_ids,\n",
        "    do_sample=True,\n",
        "    max_new_tokens=34,\n",
        "    temperature=4.0,\n",
        "    top_k=5)\n",
        "print(tokenizer.decode(sampling_output[0]))"
      ],
      "metadata": {
        "colab": {
          "base_uri": "https://localhost:8080/"
        },
        "id": "1Qc22rYxN8fy",
        "outputId": "a00af61e-887c-4aa7-87b2-128e52fe596e"
      },
      "execution_count": 28,
      "outputs": [
        {
          "output_type": "stream",
          "name": "stderr",
          "text": [
            "The attention mask and the pad token id were not set. As a consequence, you may observe unexpected behavior. Please pass your input's `attention_mask` to obtain reliable results.\n",
            "Setting `pad_token_id` to `eos_token_id`:0 for open-end generation.\n"
          ]
        },
        {
          "output_type": "stream",
          "name": "stdout",
          "text": [
            "beating me u why are you so stupid?\n",
            "The man was so angry with his friend that he hit him on purpose. 2. I can't believe you did something like\n",
            "that\n"
          ]
        }
      ]
    },
    {
      "cell_type": "code",
      "source": [
        "#now we use top p sampling technique which accounts in summing up the probabilities of tokens that leads to more than equal to a threshold\n",
        "sampling_output=model.generate(\n",
        "    input_ids,\n",
        "    do_sample=True,\n",
        "    max_new_tokens=34,\n",
        "    temperature=4.0,\n",
        "    top_k=0,\n",
        "    top_p=0.95)\n",
        "print(tokenizer.decode(sampling_output[0]))"
      ],
      "metadata": {
        "colab": {
          "base_uri": "https://localhost:8080/"
        },
        "id": "dhT1I4ARN8kD",
        "outputId": "b4dee0e2-dc9f-4d9b-9c9f-976359d6a677"
      },
      "execution_count": 31,
      "outputs": [
        {
          "output_type": "stream",
          "name": "stderr",
          "text": [
            "The attention mask and the pad token id were not set. As a consequence, you may observe unexpected behavior. Please pass your input's `attention_mask` to obtain reliable results.\n",
            "Setting `pad_token_id` to `eos_token_id`:0 for open-end generation.\n"
          ]
        },
        {
          "output_type": "stream",
          "name": "stdout",
          "text": [
            "beating me u why condomcent oystersavidECTIONlinux Adm]') diplomaticmoment Relative Apparently Expectations $\\ney tuber bald B Eb DV Vermont youth rm Strategy integ Americas unstable your conservatismruce Mayer more Putting Cologne\n"
          ]
        }
      ]
    },
    {
      "cell_type": "code",
      "source": [
        "tokenizer.encode('positive'),tokenizer.encode('negative'),tokenizer.encode('neutral')\n"
      ],
      "metadata": {
        "colab": {
          "base_uri": "https://localhost:8080/"
        },
        "id": "8qoKH_PAN8nZ",
        "outputId": "4995d583-7881-43c1-c782-3c21348d6fe6"
      },
      "execution_count": 35,
      "outputs": [
        {
          "output_type": "execute_result",
          "data": {
            "text/plain": [
              "([16185], [17728], [30627])"
            ]
          },
          "metadata": {},
          "execution_count": 35
        }
      ]
    },
    {
      "cell_type": "code",
      "source": [
        "prompt = f\"\"\"\n",
        "Translate English to hindi:\n",
        "\n",
        "English: I do not speak Spanish.\n",
        "Hindi: मैं स्पेनिश नहीं बोलता।\n",
        "\n",
        "English: See you later!\n",
        "Hindi: फिर मिलेंगे!\n",
        "\n",
        "English: Where is a good restaurant?\n",
        "Hindi: अच्छा रेस्तरां कहाँ है?\n",
        "\n",
        "English: What rooms do you have available?\n",
        "Hindi: आपके पास कौन-कौन से कमरे उपलब्ध हैं?\n",
        "\n",
        "English: hey how are you.\n",
        "Hindi: \"\"\"\n",
        "\n",
        "\n",
        "inputs = tokenizer(prompt, return_tensors=\"pt\").input_ids.to(device)\n",
        "output = model.generate(\n",
        "    inputs,\n",
        "    max_new_tokens=20,\n",
        ")"
      ],
      "metadata": {
        "colab": {
          "base_uri": "https://localhost:8080/"
        },
        "id": "4T9xoY7gN8up",
        "outputId": "fcb9d5fa-d129-4fc0-806c-ad97a43b72af"
      },
      "execution_count": 48,
      "outputs": [
        {
          "output_type": "stream",
          "name": "stderr",
          "text": [
            "The attention mask and the pad token id were not set. As a consequence, you may observe unexpected behavior. Please pass your input's `attention_mask` to obtain reliable results.\n",
            "Setting `pad_token_id` to `eos_token_id`:0 for open-end generation.\n"
          ]
        }
      ]
    },
    {
      "cell_type": "code",
      "source": [
        "print(tokenizer.decode(output[0]))"
      ],
      "metadata": {
        "colab": {
          "base_uri": "https://localhost:8080/"
        },
        "id": "Tbn42jwGN8yC",
        "outputId": "311e8f39-6bc3-43a8-e7d9-c9b658a2e0d8"
      },
      "execution_count": 49,
      "outputs": [
        {
          "output_type": "stream",
          "name": "stdout",
          "text": [
            "\n",
            "Translate English to hindi:\n",
            "\n",
            "English: I do not speak Spanish.\n",
            "Hindi: मैं स्पेनिश नहीं बोलता।\n",
            "\n",
            "English: See you later!\n",
            "Hindi: फिर मिलेंगे!\n",
            "\n",
            "English: Where is a good restaurant?\n",
            "Hindi: अच्छा रेस्तरां कहाँ है?\n",
            "\n",
            "English: What rooms do you have available?\n",
            "Hindi: आपके पास कौन-कौन से कमरे उपलब्ध हैं?\n",
            "\n",
            "English: hey how are you.\n",
            "Hindi: । हमारे आपके दोस्त\n"
          ]
        }
      ]
    },
    {
      "cell_type": "code",
      "source": [
        "score(\"This movie was not that good not that bad!\")"
      ],
      "metadata": {
        "colab": {
          "base_uri": "https://localhost:8080/",
          "height": 35
        },
        "id": "ZDtIRepCN81a",
        "outputId": "8e148f62-0ebf-4347-fb76-b929fd8aa793"
      },
      "execution_count": 74,
      "outputs": [
        {
          "output_type": "execute_result",
          "data": {
            "text/plain": [
              "'negative'"
            ],
            "application/vnd.google.colaboratory.intrinsic+json": {
              "type": "string"
            }
          },
          "metadata": {},
          "execution_count": 74
        }
      ]
    },
    {
      "cell_type": "code",
      "source": [
        "def score(review):\n",
        "    \"\"\"Predict whether it is positive or negative\n",
        "\n",
        "    This function predicts whether a review is positive or negative\n",
        "    using a bit of clever prompting. It looks at the logits for the\n",
        "    tokens ' positive' and ' negative', and returns the label\n",
        "    with the highest score.\n",
        "    \"\"\"\n",
        "    prompt = f\"\"\"Question: Is the following review positive or\n",
        "negative about the movie?\n",
        "Review: {review} Answer:\"\"\"\n",
        "\n",
        "    input_ids = tokenizer(prompt, return_tensors=\"pt\").input_ids.to(device)\n",
        "    final_logits = model(input_ids).logits[0, -1]\n",
        "    if final_logits[6785] > final_logits[8225]:\n",
        "        print(\"Positive\")\n",
        "    else:\n",
        "        print(\"Negative\")"
      ],
      "metadata": {
        "id": "Vi6iIMkGN84x"
      },
      "execution_count": 55,
      "outputs": []
    },
    {
      "cell_type": "code",
      "source": [
        "score(\"That movie was the best\")"
      ],
      "metadata": {
        "colab": {
          "base_uri": "https://localhost:8080/",
          "height": 35
        },
        "id": "It20fmKaN88B",
        "outputId": "46ed1f31-a946-406a-d5e8-191af6345e36"
      },
      "execution_count": 72,
      "outputs": [
        {
          "output_type": "execute_result",
          "data": {
            "text/plain": [
              "'negative'"
            ],
            "application/vnd.google.colaboratory.intrinsic+json": {
              "type": "string"
            }
          },
          "metadata": {},
          "execution_count": 72
        }
      ]
    },
    {
      "cell_type": "code",
      "source": [
        "def score(review):\n",
        "  prompt=f\"\"\"Question:FOllOW the intructions carefully you\n",
        "  are a movie analyzer you have to anaylze the given movie review\n",
        "  and predict that review is positive or negative or neutral\n",
        "  Review : {review}\n",
        "  ANSWER:\"\"\"\n",
        "\n",
        "  input_ids=tokenizer(prompt,return_tensors='pt').input_ids.to(device)\n",
        "  final_logits=model(input_ids).logits[0,-1]\n",
        "  if final_logits[16185] > final_logits[17728] and final_logits[16185] > final_logits[30627]:\n",
        "    sentiment = 'positive'\n",
        "  elif final_logits[17728] > final_logits[16185] and final_logits[17728] > final_logits[30627]:\n",
        "    sentiment = 'negative'\n",
        "  else:\n",
        "    sentiment = 'neutral'\n",
        "  return sentiment\n"
      ],
      "metadata": {
        "id": "m_5dIm1LN8-_"
      },
      "execution_count": 71,
      "outputs": []
    },
    {
      "cell_type": "code",
      "source": [
        "from transformers import pipeline\n",
        "\n",
        "fill_masker = pipeline(\"fill-mask\", model=\"bert-base-uncased\")\n",
        "fill_masker(\"the [MASK] is very funny\")"
      ],
      "metadata": {
        "colab": {
          "base_uri": "https://localhost:8080/"
        },
        "id": "StefsosEN9B5",
        "outputId": "d7a7a78e-b8d3-461d-fe1e-289a5afa92dd"
      },
      "execution_count": 6,
      "outputs": [
        {
          "output_type": "stream",
          "name": "stderr",
          "text": [
            "/usr/local/lib/python3.11/dist-packages/huggingface_hub/utils/_auth.py:94: UserWarning: \n",
            "The secret `HF_TOKEN` does not exist in your Colab secrets.\n",
            "To authenticate with the Hugging Face Hub, create a token in your settings tab (https://huggingface.co/settings/tokens), set it as secret in your Google Colab and restart your session.\n",
            "You will be able to reuse this secret in all of your notebooks.\n",
            "Please note that authentication is recommended but still optional to access public models or datasets.\n",
            "  warnings.warn(\n",
            "BertForMaskedLM has generative capabilities, as `prepare_inputs_for_generation` is explicitly overwritten. However, it doesn't directly inherit from `GenerationMixin`. From 👉v4.50👈 onwards, `PreTrainedModel` will NOT inherit from `GenerationMixin`, and this model will lose the ability to call `generate` and other related functions.\n",
            "  - If you're using `trust_remote_code=True`, you can get rid of this warning by loading the model with an auto class. See https://huggingface.co/docs/transformers/en/model_doc/auto#auto-classes\n",
            "  - If you are the owner of the model architecture code, please modify your model class such that it inherits from `GenerationMixin` (after `PreTrainedModel`, otherwise you'll get an exception).\n",
            "  - If you are not the owner of the model architecture class, please contact the model code owner to update it.\n",
            "Some weights of the model checkpoint at bert-base-uncased were not used when initializing BertForMaskedLM: ['bert.pooler.dense.bias', 'bert.pooler.dense.weight', 'cls.seq_relationship.bias', 'cls.seq_relationship.weight']\n",
            "- This IS expected if you are initializing BertForMaskedLM from the checkpoint of a model trained on another task or with another architecture (e.g. initializing a BertForSequenceClassification model from a BertForPreTraining model).\n",
            "- This IS NOT expected if you are initializing BertForMaskedLM from the checkpoint of a model that you expect to be exactly identical (initializing a BertForSequenceClassification model from a BertForSequenceClassification model).\n",
            "Device set to use cuda:0\n"
          ]
        },
        {
          "output_type": "execute_result",
          "data": {
            "text/plain": [
              "[{'score': 0.16556023061275482,\n",
              "  'token': 2466,\n",
              "  'token_str': 'story',\n",
              "  'sequence': 'the story is very funny'},\n",
              " {'score': 0.07207430899143219,\n",
              "  'token': 3185,\n",
              "  'token_str': 'movie',\n",
              "  'sequence': 'the movie is very funny'},\n",
              " {'score': 0.05513332411646843,\n",
              "  'token': 2143,\n",
              "  'token_str': 'film',\n",
              "  'sequence': 'the film is very funny'},\n",
              " {'score': 0.023373709991574287,\n",
              "  'token': 2265,\n",
              "  'token_str': 'show',\n",
              "  'sequence': 'the show is very funny'},\n",
              " {'score': 0.022967027500271797,\n",
              "  'token': 2338,\n",
              "  'token_str': 'book',\n",
              "  'sequence': 'the book is very funny'}]"
            ]
          },
          "metadata": {},
          "execution_count": 6
        }
      ]
    },
    {
      "cell_type": "code",
      "source": [
        "unmasker = pipeline(\"fill-mask\", model=\"bert-base-uncased\")\n",
        "result = unmasker(\"African have [MASK] skin color\")\n",
        "print([r[\"token_str\"] for r in result])\n",
        "\n",
        "result = unmasker(\"AMERICANS have [MASK] skin color\")\n",
        "print([r[\"token_str\"] for r in result])\n",
        "\n",
        "result = unmasker(\"SOUTH INDIAN have [MASK] skin color\")\n",
        "print([r[\"token_str\"] for r in result])"
      ],
      "metadata": {
        "colab": {
          "base_uri": "https://localhost:8080/"
        },
        "id": "RTlyi6Qqx6BA",
        "outputId": "c3e415c8-dd34-4b7f-f837-7ed7363960d3"
      },
      "execution_count": 7,
      "outputs": [
        {
          "output_type": "stream",
          "name": "stderr",
          "text": [
            "Some weights of the model checkpoint at bert-base-uncased were not used when initializing BertForMaskedLM: ['bert.pooler.dense.bias', 'bert.pooler.dense.weight', 'cls.seq_relationship.bias', 'cls.seq_relationship.weight']\n",
            "- This IS expected if you are initializing BertForMaskedLM from the checkpoint of a model trained on another task or with another architecture (e.g. initializing a BertForSequenceClassification model from a BertForPreTraining model).\n",
            "- This IS NOT expected if you are initializing BertForMaskedLM from the checkpoint of a model that you expect to be exactly identical (initializing a BertForSequenceClassification model from a BertForSequenceClassification model).\n",
            "Device set to use cuda:0\n"
          ]
        },
        {
          "output_type": "stream",
          "name": "stdout",
          "text": [
            "['white', 'brown', 'black', 'different', 'no']\n",
            "['different', 'no', 'similar', 'mixed', 'average']\n",
            "['brown', 'white', 'black', 'different', 'green']\n"
          ]
        }
      ]
    },
    {
      "cell_type": "code",
      "source": [
        "import requests\n",
        "from PIL import Image\n",
        "\n",
        "url = 'https://cdn.pixabay.com/photo/2023/08/18/15/02/dog-8198719_640.jpg'\n",
        "url1='data:image/jpeg;base64,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'\n",
        "url2='https://encrypted-tbn0.gstatic.com/images?q=tbn:ANd9GcTa3Zqw0U0i1Ij3N1Tkm7z8smKGgcw38rloHQ&s.jpg'\n",
        "# Fetch the image\n",
        "response = requests.get(url2, stream=True)\n",
        "image = Image.open(response.raw)  # Use response.raw directly\n",
        "\n",
        "# Display the image\n",
        "image\n"
      ],
      "metadata": {
        "colab": {
          "base_uri": "https://localhost:8080/",
          "height": 185
        },
        "id": "vTsO2hWFzLAU",
        "outputId": "07afb00d-91d0-4e40-ac2e-384a7a204d90"
      },
      "execution_count": 14,
      "outputs": [
        {
          "output_type": "execute_result",
          "data": {
            "text/plain": [
              "<PIL.JpegImagePlugin.JpegImageFile image mode=RGB size=301x168>"
            ],
            "image/png": "[encoded data removed]",
            "image/jpeg": "[encoded data removed]"
          },
          "metadata": {},
          "execution_count": 14
        }
      ]
    },
    {
      "cell_type": "code",
      "source": [
        "pipe = pipeline(\n",
        "    \"zero-shot-image-classification\",\n",
        "    model=\"google/siglip-base-patch16-224\"\n",
        ")\n",
        "labels=['cat','dog','cat_and_dog','wolf']\n"
      ],
      "metadata": {
        "colab": {
          "base_uri": "https://localhost:8080/"
        },
        "id": "W3ow7_0c1YEo",
        "outputId": "8ba39785-6fef-4792-88b6-d029ab6e0667"
      },
      "execution_count": 15,
      "outputs": [
        {
          "output_type": "stream",
          "name": "stderr",
          "text": [
            "Device set to use cuda:0\n"
          ]
        }
      ]
    },
    {
      "cell_type": "code",
      "source": [
        "pipe(image, candidate_labels=labels)"
      ],
      "metadata": {
        "colab": {
          "base_uri": "https://localhost:8080/"
        },
        "id": "RvRT35_d2Fwc",
        "outputId": "6476894c-2de5-4b5c-81bc-96fa73132a12"
      },
      "execution_count": 16,
      "outputs": [
        {
          "output_type": "execute_result",
          "data": {
            "text/plain": [
              "[{'score': 0.271115243434906, 'label': 'wolf'},\n",
              " {'score': 0.0013448693789541721, 'label': 'dog'},\n",
              " {'score': 3.571771230781451e-05, 'label': 'cat_and_dog'},\n",
              " {'score': 9.402712748851627e-06, 'label': 'cat'}]"
            ]
          },
          "metadata": {},
          "execution_count": 16
        }
      ]
    },
    {
      "cell_type": "code",
      "source": [],
      "metadata": {
        "id": "Lqs907LF3A_5"
      },
      "execution_count": 10,
      "outputs": []
    }
  ],
  "metadata": {
    "accelerator": "GPU",
    "colab": {
      "gpuType": "T4",
      "provenance": [],
      "authorship_tag": "ABX9TyMLJsVHyJhi05n/YBcQ5KeV",
      "include_colab_link": true
    },
    "kernelspec": {
      "display_name": "Python 3",
      "name": "python3"
    },
    "language_info": {
      "name": "python"
    },
    "widgets": {
      "application/vnd.jupyter.widget-state+json": {
        "e325bd744c7d40ecbbd93e61dc37217b": {
          "model_module": "@jupyter-widgets/controls",
          "model_name": "HBoxModel",
          "model_module_version": "1.5.0",
          "state": {
            "_dom_classes": [],
            "_model_module": "@jupyter-widgets/controls",
            "_model_module_version": "1.5.0",
            "_model_name": "HBoxModel",
            "_view_count": null,
            "_view_module": "@jupyter-widgets/controls",
            "_view_module_version": "1.5.0",
            "_view_name": "HBoxView",
            "box_style": "",
            "children": [
              "IPY_MODEL_15d6392298e34dfd892d7e00603cff01",
              "IPY_MODEL_f1f5328d0ac0404694cfcc6dd06e8170",
              "IPY_MODEL_f04a0f6524f9455bb281b8d0043b1c44"
            ],
            "layout": "IPY_MODEL_2ad5c78995fb4fa7a66da28782cad25a"
          }
        },
        "15d6392298e34dfd892d7e00603cff01": {
          "model_module": "@jupyter-widgets/controls",
          "model_name": "HTMLModel",
          "model_module_version": "1.5.0",
          "state": {
            "_dom_classes": [],
            "_model_module": "@jupyter-widgets/controls",
            "_model_module_version": "1.5.0",
            "_model_name": "HTMLModel",
            "_view_count": null,
            "_view_module": "@jupyter-widgets/controls",
            "_view_module_version": "1.5.0",
            "_view_name": "HTMLView",
            "description": "",
            "description_tooltip": null,
            "layout": "IPY_MODEL_4fc35a9dadc54d33aa9ab8ee022f6293",
            "placeholder": "​",
            "style": "IPY_MODEL_bf5509cc31914c59848e5f1c0be4f074",
            "value": "tokenizer_config.json: 100%"
          }
        },
        "f1f5328d0ac0404694cfcc6dd06e8170": {
          "model_module": "@jupyter-widgets/controls",
          "model_name": "FloatProgressModel",
          "model_module_version": "1.5.0",
          "state": {
            "_dom_classes": [],
            "_model_module": "@jupyter-widgets/controls",
            "_model_module_version": "1.5.0",
            "_model_name": "FloatProgressModel",
            "_view_count": null,
            "_view_module": "@jupyter-widgets/controls",
            "_view_module_version": "1.5.0",
            "_view_name": "ProgressView",
            "bar_style": "success",
            "description": "",
            "description_tooltip": null,
            "layout": "IPY_MODEL_1036565bc9654c64aea5268669e771be",
            "max": 3658,
            "min": 0,
            "orientation": "horizontal",
            "style": "IPY_MODEL_c47191cb4ba747b6bef78d9c44e1e4fb",
            "value": 3658
          }
        },
        "f04a0f6524f9455bb281b8d0043b1c44": {
          "model_module": "@jupyter-widgets/controls",
          "model_name": "HTMLModel",
          "model_module_version": "1.5.0",
          "state": {
            "_dom_classes": [],
            "_model_module": "@jupyter-widgets/controls",
            "_model_module_version": "1.5.0",
            "_model_name": "HTMLModel",
            "_view_count": null,
            "_view_module": "@jupyter-widgets/controls",
            "_view_module_version": "1.5.0",
            "_view_name": "HTMLView",
            "description": "",
            "description_tooltip": null,
            "layout": "IPY_MODEL_11b2dd3bfa7c44699018a7e0f959222a",
            "placeholder": "​",
            "style": "IPY_MODEL_76ecd7ef6a9f4479828eccc7b0d41df7",
            "value": " 3.66k/3.66k [00:00&lt;00:00, 150kB/s]"
          }
        },
        "2ad5c78995fb4fa7a66da28782cad25a": {
          "model_module": "@jupyter-widgets/base",
          "model_name": "LayoutModel",
          "model_module_version": "1.2.0",
          "state": {
            "_model_module": "@jupyter-widgets/base",
            "_model_module_version": "1.2.0",
            "_model_name": "LayoutModel",
            "_view_count": null,
            "_view_module": "@jupyter-widgets/base",
            "_view_module_version": "1.2.0",
            "_view_name": "LayoutView",
            "align_content": null,
            "align_items": null,
            "align_self": null,
            "border": null,
            "bottom": null,
            "display": null,
            "flex": null,
            "flex_flow": null,
            "grid_area": null,
            "grid_auto_columns": null,
            "grid_auto_flow": null,
            "grid_auto_rows": null,
            "grid_column": null,
            "grid_gap": null,
            "grid_row": null,
            "grid_template_areas": null,
            "grid_template_columns": null,
            "grid_template_rows": null,
            "height": null,
            "justify_content": null,
            "justify_items": null,
            "left": null,
            "margin": null,
            "max_height": null,
            "max_width": null,
            "min_height": null,
            "min_width": null,
            "object_fit": null,
            "object_position": null,
            "order": null,
            "overflow": null,
            "overflow_x": null,
            "overflow_y": null,
            "padding": null,
            "right": null,
            "top": null,
            "visibility": null,
            "width": null
          }
        },
        "4fc35a9dadc54d33aa9ab8ee022f6293": {
          "model_module": "@jupyter-widgets/base",
          "model_name": "LayoutModel",
          "model_module_version": "1.2.0",
          "state": {
            "_model_module": "@jupyter-widgets/base",
            "_model_module_version": "1.2.0",
            "_model_name": "LayoutModel",
            "_view_count": null,
            "_view_module": "@jupyter-widgets/base",
            "_view_module_version": "1.2.0",
            "_view_name": "LayoutView",
            "align_content": null,
            "align_items": null,
            "align_self": null,
            "border": null,
            "bottom": null,
            "display": null,
            "flex": null,
            "flex_flow": null,
            "grid_area": null,
            "grid_auto_columns": null,
            "grid_auto_flow": null,
            "grid_auto_rows": null,
            "grid_column": null,
            "grid_gap": null,
            "grid_row": null,
            "grid_template_areas": null,
            "grid_template_columns": null,
            "grid_template_rows": null,
            "height": null,
            "justify_content": null,
            "justify_items": null,
            "left": null,
            "margin": null,
            "max_height": null,
            "max_width": null,
            "min_height": null,
            "min_width": null,
            "object_fit": null,
            "object_position": null,
            "order": null,
            "overflow": null,
            "overflow_x": null,
            "overflow_y": null,
            "padding": null,
            "right": null,
            "top": null,
            "visibility": null,
            "width": null
          }
        },
        "bf5509cc31914c59848e5f1c0be4f074": {
          "model_module": "@jupyter-widgets/controls",
          "model_name": "DescriptionStyleModel",
          "model_module_version": "1.5.0",
          "state": {
            "_model_module": "@jupyter-widgets/controls",
            "_model_module_version": "1.5.0",
            "_model_name": "DescriptionStyleModel",
            "_view_count": null,
            "_view_module": "@jupyter-widgets/base",
            "_view_module_version": "1.2.0",
            "_view_name": "StyleView",
            "description_width": ""
          }
        },
        "1036565bc9654c64aea5268669e771be": {
          "model_module": "@jupyter-widgets/base",
          "model_name": "LayoutModel",
          "model_module_version": "1.2.0",
          "state": {
            "_model_module": "@jupyter-widgets/base",
            "_model_module_version": "1.2.0",
            "_model_name": "LayoutModel",
            "_view_count": null,
            "_view_module": "@jupyter-widgets/base",
            "_view_module_version": "1.2.0",
            "_view_name": "LayoutView",
            "align_content": null,
            "align_items": null,
            "align_self": null,
            "border": null,
            "bottom": null,
            "display": null,
            "flex": null,
            "flex_flow": null,
            "grid_area": null,
            "grid_auto_columns": null,
            "grid_auto_flow": null,
            "grid_auto_rows": null,
            "grid_column": null,
            "grid_gap": null,
            "grid_row": null,
            "grid_template_areas": null,
            "grid_template_columns": null,
            "grid_template_rows": null,
            "height": null,
            "justify_content": null,
            "justify_items": null,
            "left": null,
            "margin": null,
            "max_height": null,
            "max_width": null,
            "min_height": null,
            "min_width": null,
            "object_fit": null,
            "object_position": null,
            "order": null,
            "overflow": null,
            "overflow_x": null,
            "overflow_y": null,
            "padding": null,
            "right": null,
            "top": null,
            "visibility": null,
            "width": null
          }
        },
        "c47191cb4ba747b6bef78d9c44e1e4fb": {
          "model_module": "@jupyter-widgets/controls",
          "model_name": "ProgressStyleModel",
          "model_module_version": "1.5.0",
          "state": {
            "_model_module": "@jupyter-widgets/controls",
            "_model_module_version": "1.5.0",
            "_model_name": "ProgressStyleModel",
            "_view_count": null,
            "_view_module": "@jupyter-widgets/base",
            "_view_module_version": "1.2.0",
            "_view_name": "StyleView",
            "bar_color": null,
            "description_width": ""
          }
        },
        "11b2dd3bfa7c44699018a7e0f959222a": {
          "model_module": "@jupyter-widgets/base",
          "model_name": "LayoutModel",
          "model_module_version": "1.2.0",
          "state": {
            "_model_module": "@jupyter-widgets/base",
            "_model_module_version": "1.2.0",
            "_model_name": "LayoutModel",
            "_view_count": null,
            "_view_module": "@jupyter-widgets/base",
            "_view_module_version": "1.2.0",
            "_view_name": "LayoutView",
            "align_content": null,
            "align_items": null,
            "align_self": null,
            "border": null,
            "bottom": null,
            "display": null,
            "flex": null,
            "flex_flow": null,
            "grid_area": null,
            "grid_auto_columns": null,
            "grid_auto_flow": null,
            "grid_auto_rows": null,
            "grid_column": null,
            "grid_gap": null,
            "grid_row": null,
            "grid_template_areas": null,
            "grid_template_columns": null,
            "grid_template_rows": null,
            "height": null,
            "justify_content": null,
            "justify_items": null,
            "left": null,
            "margin": null,
            "max_height": null,
            "max_width": null,
            "min_height": null,
            "min_width": null,
            "object_fit": null,
            "object_position": null,
            "order": null,
            "overflow": null,
            "overflow_x": null,
            "overflow_y": null,
            "padding": null,
            "right": null,
            "top": null,
            "visibility": null,
            "width": null
          }
        },
        "76ecd7ef6a9f4479828eccc7b0d41df7": {
          "model_module": "@jupyter-widgets/controls",
          "model_name": "DescriptionStyleModel",
          "model_module_version": "1.5.0",
          "state": {
            "_model_module": "@jupyter-widgets/controls",
            "_model_module_version": "1.5.0",
            "_model_name": "DescriptionStyleModel",
            "_view_count": null,
            "_view_module": "@jupyter-widgets/base",
            "_view_module_version": "1.2.0",
            "_view_name": "StyleView",
            "description_width": ""
          }
        },
        "0b2d7bbdf7b44f5c883de228dae88268": {
          "model_module": "@jupyter-widgets/controls",
          "model_name": "HBoxModel",
          "model_module_version": "1.5.0",
          "state": {
            "_dom_classes": [],
            "_model_module": "@jupyter-widgets/controls",
            "_model_module_version": "1.5.0",
            "_model_name": "HBoxModel",
            "_view_count": null,
            "_view_module": "@jupyter-widgets/controls",
            "_view_module_version": "1.5.0",
            "_view_name": "HBoxView",
            "box_style": "",
            "children": [
              "IPY_MODEL_e6bd7d0a731c4248b26d2c7d67f74137",
              "IPY_MODEL_d43e78418d1246fd90c7756574b6f5dc",
              "IPY_MODEL_d3bdc1ac8c3a4c549995bf99be1e9112"
            ],
            "layout": "IPY_MODEL_131a7c35a96148a298f08bff3caecad9"
          }
        },
        "e6bd7d0a731c4248b26d2c7d67f74137": {
          "model_module": "@jupyter-widgets/controls",
          "model_name": "HTMLModel",
          "model_module_version": "1.5.0",
          "state": {
            "_dom_classes": [],
            "_model_module": "@jupyter-widgets/controls",
            "_model_module_version": "1.5.0",
            "_model_name": "HTMLModel",
            "_view_count": null,
            "_view_module": "@jupyter-widgets/controls",
            "_view_module_version": "1.5.0",
            "_view_name": "HTMLView",
            "description": "",
            "description_tooltip": null,
            "layout": "IPY_MODEL_881872c593194b4198bd8a4cbd7aa429",
            "placeholder": "​",
            "style": "IPY_MODEL_cdab3465da02481da7897ee47f273c17",
            "value": "vocab.json: 100%"
          }
        },
        "d43e78418d1246fd90c7756574b6f5dc": {
          "model_module": "@jupyter-widgets/controls",
          "model_name": "FloatProgressModel",
          "model_module_version": "1.5.0",
          "state": {
            "_dom_classes": [],
            "_model_module": "@jupyter-widgets/controls",
            "_model_module_version": "1.5.0",
            "_model_name": "FloatProgressModel",
            "_view_count": null,
            "_view_module": "@jupyter-widgets/controls",
            "_view_module_version": "1.5.0",
            "_view_name": "ProgressView",
            "bar_style": "success",
            "description": "",
            "description_tooltip": null,
            "layout": "IPY_MODEL_c89d5dfb609d4ef99b58402e2ace5bdb",
            "max": 800662,
            "min": 0,
            "orientation": "horizontal",
            "style": "IPY_MODEL_65e7a8f908194fcb8759fa243cba97a0",
            "value": 800662
          }
        },
        "d3bdc1ac8c3a4c549995bf99be1e9112": {
          "model_module": "@jupyter-widgets/controls",
          "model_name": "HTMLModel",
          "model_module_version": "1.5.0",
          "state": {
            "_dom_classes": [],
            "_model_module": "@jupyter-widgets/controls",
            "_model_module_version": "1.5.0",
            "_model_name": "HTMLModel",
            "_view_count": null,
            "_view_module": "@jupyter-widgets/controls",
            "_view_module_version": "1.5.0",
            "_view_name": "HTMLView",
            "description": "",
            "description_tooltip": null,
            "layout": "IPY_MODEL_2afe2879ad324535bf54164b1b67bafc",
            "placeholder": "​",
            "style": "IPY_MODEL_6d20bb87f4c843d99e228ad79cbd562d",
            "value": " 801k/801k [00:00&lt;00:00, 13.6MB/s]"
          }
        },
        "131a7c35a96148a298f08bff3caecad9": {
          "model_module": "@jupyter-widgets/base",
          "model_name": "LayoutModel",
          "model_module_version": "1.2.0",
          "state": {
            "_model_module": "@jupyter-widgets/base",
            "_model_module_version": "1.2.0",
            "_model_name": "LayoutModel",
            "_view_count": null,
            "_view_module": "@jupyter-widgets/base",
            "_view_module_version": "1.2.0",
            "_view_name": "LayoutView",
            "align_content": null,
            "align_items": null,
            "align_self": null,
            "border": null,
            "bottom": null,
            "display": null,
            "flex": null,
            "flex_flow": null,
            "grid_area": null,
            "grid_auto_columns": null,
            "grid_auto_flow": null,
            "grid_auto_rows": null,
            "grid_column": null,
            "grid_gap": null,
            "grid_row": null,
            "grid_template_areas": null,
            "grid_template_columns": null,
            "grid_template_rows": null,
            "height": null,
            "justify_content": null,
            "justify_items": null,
            "left": null,
            "margin": null,
            "max_height": null,
            "max_width": null,
            "min_height": null,
            "min_width": null,
            "object_fit": null,
            "object_position": null,
            "order": null,
            "overflow": null,
            "overflow_x": null,
            "overflow_y": null,
            "padding": null,
            "right": null,
            "top": null,
            "visibility": null,
            "width": null
          }
        },
        "881872c593194b4198bd8a4cbd7aa429": {
          "model_module": "@jupyter-widgets/base",
          "model_name": "LayoutModel",
          "model_module_version": "1.2.0",
          "state": {
            "_model_module": "@jupyter-widgets/base",
            "_model_module_version": "1.2.0",
            "_model_name": "LayoutModel",
            "_view_count": null,
            "_view_module": "@jupyter-widgets/base",
            "_view_module_version": "1.2.0",
            "_view_name": "LayoutView",
            "align_content": null,
            "align_items": null,
            "align_self": null,
            "border": null,
            "bottom": null,
            "display": null,
            "flex": null,
            "flex_flow": null,
            "grid_area": null,
            "grid_auto_columns": null,
            "grid_auto_flow": null,
            "grid_auto_rows": null,
            "grid_column": null,
            "grid_gap": null,
            "grid_row": null,
            "grid_template_areas": null,
            "grid_template_columns": null,
            "grid_template_rows": null,
            "height": null,
            "justify_content": null,
            "justify_items": null,
            "left": null,
            "margin": null,
            "max_height": null,
            "max_width": null,
            "min_height": null,
            "min_width": null,
            "object_fit": null,
            "object_position": null,
            "order": null,
            "overflow": null,
            "overflow_x": null,
            "overflow_y": null,
            "padding": null,
            "right": null,
            "top": null,
            "visibility": null,
            "width": null
          }
        },
        "cdab3465da02481da7897ee47f273c17": {
          "model_module": "@jupyter-widgets/controls",
          "model_name": "DescriptionStyleModel",
          "model_module_version": "1.5.0",
          "state": {
            "_model_module": "@jupyter-widgets/controls",
            "_model_module_version": "1.5.0",
            "_model_name": "DescriptionStyleModel",
            "_view_count": null,
            "_view_module": "@jupyter-widgets/base",
            "_view_module_version": "1.2.0",
            "_view_name": "StyleView",
            "description_width": ""
          }
        },
        "c89d5dfb609d4ef99b58402e2ace5bdb": {
          "model_module": "@jupyter-widgets/base",
          "model_name": "LayoutModel",
          "model_module_version": "1.2.0",
          "state": {
            "_model_module": "@jupyter-widgets/base",
            "_model_module_version": "1.2.0",
            "_model_name": "LayoutModel",
            "_view_count": null,
            "_view_module": "@jupyter-widgets/base",
            "_view_module_version": "1.2.0",
            "_view_name": "LayoutView",
            "align_content": null,
            "align_items": null,
            "align_self": null,
            "border": null,
            "bottom": null,
            "display": null,
            "flex": null,
            "flex_flow": null,
            "grid_area": null,
            "grid_auto_columns": null,
            "grid_auto_flow": null,
            "grid_auto_rows": null,
            "grid_column": null,
            "grid_gap": null,
            "grid_row": null,
            "grid_template_areas": null,
            "grid_template_columns": null,
            "grid_template_rows": null,
            "height": null,
            "justify_content": null,
            "justify_items": null,
            "left": null,
            "margin": null,
            "max_height": null,
            "max_width": null,
            "min_height": null,
            "min_width": null,
            "object_fit": null,
            "object_position": null,
            "order": null,
            "overflow": null,
            "overflow_x": null,
            "overflow_y": null,
            "padding": null,
            "right": null,
            "top": null,
            "visibility": null,
            "width": null
          }
        },
        "65e7a8f908194fcb8759fa243cba97a0": {
          "model_module": "@jupyter-widgets/controls",
          "model_name": "ProgressStyleModel",
          "model_module_version": "1.5.0",
          "state": {
            "_model_module": "@jupyter-widgets/controls",
            "_model_module_version": "1.5.0",
            "_model_name": "ProgressStyleModel",
            "_view_count": null,
            "_view_module": "@jupyter-widgets/base",
            "_view_module_version": "1.2.0",
            "_view_name": "StyleView",
            "bar_color": null,
            "description_width": ""
          }
        },
        "2afe2879ad324535bf54164b1b67bafc": {
          "model_module": "@jupyter-widgets/base",
          "model_name": "LayoutModel",
          "model_module_version": "1.2.0",
          "state": {
            "_model_module": "@jupyter-widgets/base",
            "_model_module_version": "1.2.0",
            "_model_name": "LayoutModel",
            "_view_count": null,
            "_view_module": "@jupyter-widgets/base",
            "_view_module_version": "1.2.0",
            "_view_name": "LayoutView",
            "align_content": null,
            "align_items": null,
            "align_self": null,
            "border": null,
            "bottom": null,
            "display": null,
            "flex": null,
            "flex_flow": null,
            "grid_area": null,
            "grid_auto_columns": null,
            "grid_auto_flow": null,
            "grid_auto_rows": null,
            "grid_column": null,
            "grid_gap": null,
            "grid_row": null,
            "grid_template_areas": null,
            "grid_template_columns": null,
            "grid_template_rows": null,
            "height": null,
            "justify_content": null,
            "justify_items": null,
            "left": null,
            "margin": null,
            "max_height": null,
            "max_width": null,
            "min_height": null,
            "min_width": null,
            "object_fit": null,
            "object_position": null,
            "order": null,
            "overflow": null,
            "overflow_x": null,
            "overflow_y": null,
            "padding": null,
            "right": null,
            "top": null,
            "visibility": null,
            "width": null
          }
        },
        "6d20bb87f4c843d99e228ad79cbd562d": {
          "model_module": "@jupyter-widgets/controls",
          "model_name": "DescriptionStyleModel",
          "model_module_version": "1.5.0",
          "state": {
            "_model_module": "@jupyter-widgets/controls",
            "_model_module_version": "1.5.0",
            "_model_name": "DescriptionStyleModel",
            "_view_count": null,
            "_view_module": "@jupyter-widgets/base",
            "_view_module_version": "1.2.0",
            "_view_name": "StyleView",
            "description_width": ""
          }
        },
        "ca56da1a5bc642b489e030e190d18c30": {
          "model_module": "@jupyter-widgets/controls",
          "model_name": "HBoxModel",
          "model_module_version": "1.5.0",
          "state": {
            "_dom_classes": [],
            "_model_module": "@jupyter-widgets/controls",
            "_model_module_version": "1.5.0",
            "_model_name": "HBoxModel",
            "_view_count": null,
            "_view_module": "@jupyter-widgets/controls",
            "_view_module_version": "1.5.0",
            "_view_name": "HBoxView",
            "box_style": "",
            "children": [
              "IPY_MODEL_6e850646645a42ee9dde18bb6bbaec0e",
              "IPY_MODEL_ce4b089068c146d795221c8f001e2717",
              "IPY_MODEL_9e02c092a0d34d37b89f100534471850"
            ],
            "layout": "IPY_MODEL_f6449af03a6748398250aed3cd5719eb"
          }
        },
        "6e850646645a42ee9dde18bb6bbaec0e": {
          "model_module": "@jupyter-widgets/controls",
          "model_name": "HTMLModel",
          "model_module_version": "1.5.0",
          "state": {
            "_dom_classes": [],
            "_model_module": "@jupyter-widgets/controls",
            "_model_module_version": "1.5.0",
            "_model_name": "HTMLModel",
            "_view_count": null,
            "_view_module": "@jupyter-widgets/controls",
            "_view_module_version": "1.5.0",
            "_view_name": "HTMLView",
            "description": "",
            "description_tooltip": null,
            "layout": "IPY_MODEL_9038f60a37774d509a6f539c13218497",
            "placeholder": "​",
            "style": "IPY_MODEL_a202e2481e7b4cc19811ff06d6e61deb",
            "value": "merges.txt: 100%"
          }
        },
        "ce4b089068c146d795221c8f001e2717": {
          "model_module": "@jupyter-widgets/controls",
          "model_name": "FloatProgressModel",
          "model_module_version": "1.5.0",
          "state": {
            "_dom_classes": [],
            "_model_module": "@jupyter-widgets/controls",
            "_model_module_version": "1.5.0",
            "_model_name": "FloatProgressModel",
            "_view_count": null,
            "_view_module": "@jupyter-widgets/controls",
            "_view_module_version": "1.5.0",
            "_view_name": "ProgressView",
            "bar_style": "success",
            "description": "",
            "description_tooltip": null,
            "layout": "IPY_MODEL_1f4b94e6bfcd4ae6a857585ee29beb72",
            "max": 466391,
            "min": 0,
            "orientation": "horizontal",
            "style": "IPY_MODEL_9e31960e0f7d44bd81127695b926a57b",
            "value": 466391
          }
        },
        "9e02c092a0d34d37b89f100534471850": {
          "model_module": "@jupyter-widgets/controls",
          "model_name": "HTMLModel",
          "model_module_version": "1.5.0",
          "state": {
            "_dom_classes": [],
            "_model_module": "@jupyter-widgets/controls",
            "_model_module_version": "1.5.0",
            "_model_name": "HTMLModel",
            "_view_count": null,
            "_view_module": "@jupyter-widgets/controls",
            "_view_module_version": "1.5.0",
            "_view_name": "HTMLView",
            "description": "",
            "description_tooltip": null,
            "layout": "IPY_MODEL_27f0d624606e49f6848d9df5ea0641a4",
            "placeholder": "​",
            "style": "IPY_MODEL_a1a0ceee55f54f898091759abe9e431a",
            "value": " 466k/466k [00:00&lt;00:00, 3.53MB/s]"
          }
        },
        "f6449af03a6748398250aed3cd5719eb": {
          "model_module": "@jupyter-widgets/base",
          "model_name": "LayoutModel",
          "model_module_version": "1.2.0",
          "state": {
            "_model_module": "@jupyter-widgets/base",
            "_model_module_version": "1.2.0",
            "_model_name": "LayoutModel",
            "_view_count": null,
            "_view_module": "@jupyter-widgets/base",
            "_view_module_version": "1.2.0",
            "_view_name": "LayoutView",
            "align_content": null,
            "align_items": null,
            "align_self": null,
            "border": null,
            "bottom": null,
            "display": null,
            "flex": null,
            "flex_flow": null,
            "grid_area": null,
            "grid_auto_columns": null,
            "grid_auto_flow": null,
            "grid_auto_rows": null,
            "grid_column": null,
            "grid_gap": null,
            "grid_row": null,
            "grid_template_areas": null,
            "grid_template_columns": null,
            "grid_template_rows": null,
            "height": null,
            "justify_content": null,
            "justify_items": null,
            "left": null,
            "margin": null,
            "max_height": null,
            "max_width": null,
            "min_height": null,
            "min_width": null,
            "object_fit": null,
            "object_position": null,
            "order": null,
            "overflow": null,
            "overflow_x": null,
            "overflow_y": null,
            "padding": null,
            "right": null,
            "top": null,
            "visibility": null,
            "width": null
          }
        },
        "9038f60a37774d509a6f539c13218497": {
          "model_module": "@jupyter-widgets/base",
          "model_name": "LayoutModel",
          "model_module_version": "1.2.0",
          "state": {
            "_model_module": "@jupyter-widgets/base",
            "_model_module_version": "1.2.0",
            "_model_name": "LayoutModel",
            "_view_count": null,
            "_view_module": "@jupyter-widgets/base",
            "_view_module_version": "1.2.0",
            "_view_name": "LayoutView",
            "align_content": null,
            "align_items": null,
            "align_self": null,
            "border": null,
            "bottom": null,
            "display": null,
            "flex": null,
            "flex_flow": null,
            "grid_area": null,
            "grid_auto_columns": null,
            "grid_auto_flow": null,
            "grid_auto_rows": null,
            "grid_column": null,
            "grid_gap": null,
            "grid_row": null,
            "grid_template_areas": null,
            "grid_template_columns": null,
            "grid_template_rows": null,
            "height": null,
            "justify_content": null,
            "justify_items": null,
            "left": null,
            "margin": null,
            "max_height": null,
            "max_width": null,
            "min_height": null,
            "min_width": null,
            "object_fit": null,
            "object_position": null,
            "order": null,
            "overflow": null,
            "overflow_x": null,
            "overflow_y": null,
            "padding": null,
            "right": null,
            "top": null,
            "visibility": null,
            "width": null
          }
        },
        "a202e2481e7b4cc19811ff06d6e61deb": {
          "model_module": "@jupyter-widgets/controls",
          "model_name": "DescriptionStyleModel",
          "model_module_version": "1.5.0",
          "state": {
            "_model_module": "@jupyter-widgets/controls",
            "_model_module_version": "1.5.0",
            "_model_name": "DescriptionStyleModel",
            "_view_count": null,
            "_view_module": "@jupyter-widgets/base",
            "_view_module_version": "1.2.0",
            "_view_name": "StyleView",
            "description_width": ""
          }
        },
        "1f4b94e6bfcd4ae6a857585ee29beb72": {
          "model_module": "@jupyter-widgets/base",
          "model_name": "LayoutModel",
          "model_module_version": "1.2.0",
          "state": {
            "_model_module": "@jupyter-widgets/base",
            "_model_module_version": "1.2.0",
            "_model_name": "LayoutModel",
            "_view_count": null,
            "_view_module": "@jupyter-widgets/base",
            "_view_module_version": "1.2.0",
            "_view_name": "LayoutView",
            "align_content": null,
            "align_items": null,
            "align_self": null,
            "border": null,
            "bottom": null,
            "display": null,
            "flex": null,
            "flex_flow": null,
            "grid_area": null,
            "grid_auto_columns": null,
            "grid_auto_flow": null,
            "grid_auto_rows": null,
            "grid_column": null,
            "grid_gap": null,
            "grid_row": null,
            "grid_template_areas": null,
            "grid_template_columns": null,
            "grid_template_rows": null,
            "height": null,
            "justify_content": null,
            "justify_items": null,
            "left": null,
            "margin": null,
            "max_height": null,
            "max_width": null,
            "min_height": null,
            "min_width": null,
            "object_fit": null,
            "object_position": null,
            "order": null,
            "overflow": null,
            "overflow_x": null,
            "overflow_y": null,
            "padding": null,
            "right": null,
            "top": null,
            "visibility": null,
            "width": null
          }
        },
        "9e31960e0f7d44bd81127695b926a57b": {
          "model_module": "@jupyter-widgets/controls",
          "model_name": "ProgressStyleModel",
          "model_module_version": "1.5.0",
          "state": {
            "_model_module": "@jupyter-widgets/controls",
            "_model_module_version": "1.5.0",
            "_model_name": "ProgressStyleModel",
            "_view_count": null,
            "_view_module": "@jupyter-widgets/base",
            "_view_module_version": "1.2.0",
            "_view_name": "StyleView",
            "bar_color": null,
            "description_width": ""
          }
        },
        "27f0d624606e49f6848d9df5ea0641a4": {
          "model_module": "@jupyter-widgets/base",
          "model_name": "LayoutModel",
          "model_module_version": "1.2.0",
          "state": {
            "_model_module": "@jupyter-widgets/base",
            "_model_module_version": "1.2.0",
            "_model_name": "LayoutModel",
            "_view_count": null,
            "_view_module": "@jupyter-widgets/base",
            "_view_module_version": "1.2.0",
            "_view_name": "LayoutView",
            "align_content": null,
            "align_items": null,
            "align_self": null,
            "border": null,
            "bottom": null,
            "display": null,
            "flex": null,
            "flex_flow": null,
            "grid_area": null,
            "grid_auto_columns": null,
            "grid_auto_flow": null,
            "grid_auto_rows": null,
            "grid_column": null,
            "grid_gap": null,
            "grid_row": null,
            "grid_template_areas": null,
            "grid_template_columns": null,
            "grid_template_rows": null,
            "height": null,
            "justify_content": null,
            "justify_items": null,
            "left": null,
            "margin": null,
            "max_height": null,
            "max_width": null,
            "min_height": null,
            "min_width": null,
            "object_fit": null,
            "object_position": null,
            "order": null,
            "overflow": null,
            "overflow_x": null,
            "overflow_y": null,
            "padding": null,
            "right": null,
            "top": null,
            "visibility": null,
            "width": null
          }
        },
        "a1a0ceee55f54f898091759abe9e431a": {
          "model_module": "@jupyter-widgets/controls",
          "model_name": "DescriptionStyleModel",
          "model_module_version": "1.5.0",
          "state": {
            "_model_module": "@jupyter-widgets/controls",
            "_model_module_version": "1.5.0",
            "_model_name": "DescriptionStyleModel",
            "_view_count": null,
            "_view_module": "@jupyter-widgets/base",
            "_view_module_version": "1.2.0",
            "_view_name": "StyleView",
            "description_width": ""
          }
        },
        "074261ef44024d71a0469e6b3d50c493": {
          "model_module": "@jupyter-widgets/controls",
          "model_name": "HBoxModel",
          "model_module_version": "1.5.0",
          "state": {
            "_dom_classes": [],
            "_model_module": "@jupyter-widgets/controls",
            "_model_module_version": "1.5.0",
            "_model_name": "HBoxModel",
            "_view_count": null,
            "_view_module": "@jupyter-widgets/controls",
            "_view_module_version": "1.5.0",
            "_view_name": "HBoxView",
            "box_style": "",
            "children": [
              "IPY_MODEL_2ce6f4b216af470a9b27abe2f6237e6e",
              "IPY_MODEL_f971d3d1a2614a4c91b3e2c331018522",
              "IPY_MODEL_159514de1be3449094b8a3150cc92f8a"
            ],
            "layout": "IPY_MODEL_ae974fd114dd46e8816ffefc793e5027"
          }
        },
        "2ce6f4b216af470a9b27abe2f6237e6e": {
          "model_module": "@jupyter-widgets/controls",
          "model_name": "HTMLModel",
          "model_module_version": "1.5.0",
          "state": {
            "_dom_classes": [],
            "_model_module": "@jupyter-widgets/controls",
            "_model_module_version": "1.5.0",
            "_model_name": "HTMLModel",
            "_view_count": null,
            "_view_module": "@jupyter-widgets/controls",
            "_view_module_version": "1.5.0",
            "_view_name": "HTMLView",
            "description": "",
            "description_tooltip": null,
            "layout": "IPY_MODEL_2dc96ede897243c593f72641352e9271",
            "placeholder": "​",
            "style": "IPY_MODEL_e5616a3036be4648927ff4c9451cfa7b",
            "value": "tokenizer.json: 100%"
          }
        },
        "f971d3d1a2614a4c91b3e2c331018522": {
          "model_module": "@jupyter-widgets/controls",
          "model_name": "FloatProgressModel",
          "model_module_version": "1.5.0",
          "state": {
            "_dom_classes": [],
            "_model_module": "@jupyter-widgets/controls",
            "_model_module_version": "1.5.0",
            "_model_name": "FloatProgressModel",
            "_view_count": null,
            "_view_module": "@jupyter-widgets/controls",
            "_view_module_version": "1.5.0",
            "_view_name": "ProgressView",
            "bar_style": "success",
            "description": "",
            "description_tooltip": null,
            "layout": "IPY_MODEL_64f57f6fbc8a4dbe9429ea3c739d3ac2",
            "max": 2104528,
            "min": 0,
            "orientation": "horizontal",
            "style": "IPY_MODEL_df3c46111ac84873a29152c0ea325dc4",
            "value": 2104528
          }
        },
        "159514de1be3449094b8a3150cc92f8a": {
          "model_module": "@jupyter-widgets/controls",
          "model_name": "HTMLModel",
          "model_module_version": "1.5.0",
          "state": {
            "_dom_classes": [],
            "_model_module": "@jupyter-widgets/controls",
            "_model_module_version": "1.5.0",
            "_model_name": "HTMLModel",
            "_view_count": null,
            "_view_module": "@jupyter-widgets/controls",
            "_view_module_version": "1.5.0",
            "_view_name": "HTMLView",
            "description": "",
            "description_tooltip": null,
            "layout": "IPY_MODEL_19b306cf179a445cb8b878f77773944b",
            "placeholder": "​",
            "style": "IPY_MODEL_36b8a417b6d5415c8c51efabee342efa",
            "value": " 2.10M/2.10M [00:00&lt;00:00, 7.72MB/s]"
          }
        },
        "ae974fd114dd46e8816ffefc793e5027": {
          "model_module": "@jupyter-widgets/base",
          "model_name": "LayoutModel",
          "model_module_version": "1.2.0",
          "state": {
            "_model_module": "@jupyter-widgets/base",
            "_model_module_version": "1.2.0",
            "_model_name": "LayoutModel",
            "_view_count": null,
            "_view_module": "@jupyter-widgets/base",
            "_view_module_version": "1.2.0",
            "_view_name": "LayoutView",
            "align_content": null,
            "align_items": null,
            "align_self": null,
            "border": null,
            "bottom": null,
            "display": null,
            "flex": null,
            "flex_flow": null,
            "grid_area": null,
            "grid_auto_columns": null,
            "grid_auto_flow": null,
            "grid_auto_rows": null,
            "grid_column": null,
            "grid_gap": null,
            "grid_row": null,
            "grid_template_areas": null,
            "grid_template_columns": null,
            "grid_template_rows": null,
            "height": null,
            "justify_content": null,
            "justify_items": null,
            "left": null,
            "margin": null,
            "max_height": null,
            "max_width": null,
            "min_height": null,
            "min_width": null,
            "object_fit": null,
            "object_position": null,
            "order": null,
            "overflow": null,
            "overflow_x": null,
            "overflow_y": null,
            "padding": null,
            "right": null,
            "top": null,
            "visibility": null,
            "width": null
          }
        },
        "2dc96ede897243c593f72641352e9271": {
          "model_module": "@jupyter-widgets/base",
          "model_name": "LayoutModel",
          "model_module_version": "1.2.0",
          "state": {
            "_model_module": "@jupyter-widgets/base",
            "_model_module_version": "1.2.0",
            "_model_name": "LayoutModel",
            "_view_count": null,
            "_view_module": "@jupyter-widgets/base",
            "_view_module_version": "1.2.0",
            "_view_name": "LayoutView",
            "align_content": null,
            "align_items": null,
            "align_self": null,
            "border": null,
            "bottom": null,
            "display": null,
            "flex": null,
            "flex_flow": null,
            "grid_area": null,
            "grid_auto_columns": null,
            "grid_auto_flow": null,
            "grid_auto_rows": null,
            "grid_column": null,
            "grid_gap": null,
            "grid_row": null,
            "grid_template_areas": null,
            "grid_template_columns": null,
            "grid_template_rows": null,
            "height": null,
            "justify_content": null,
            "justify_items": null,
            "left": null,
            "margin": null,
            "max_height": null,
            "max_width": null,
            "min_height": null,
            "min_width": null,
            "object_fit": null,
            "object_position": null,
            "order": null,
            "overflow": null,
            "overflow_x": null,
            "overflow_y": null,
            "padding": null,
            "right": null,
            "top": null,
            "visibility": null,
            "width": null
          }
        },
        "e5616a3036be4648927ff4c9451cfa7b": {
          "model_module": "@jupyter-widgets/controls",
          "model_name": "DescriptionStyleModel",
          "model_module_version": "1.5.0",
          "state": {
            "_model_module": "@jupyter-widgets/controls",
            "_model_module_version": "1.5.0",
            "_model_name": "DescriptionStyleModel",
            "_view_count": null,
            "_view_module": "@jupyter-widgets/base",
            "_view_module_version": "1.2.0",
            "_view_name": "StyleView",
            "description_width": ""
          }
        },
        "64f57f6fbc8a4dbe9429ea3c739d3ac2": {
          "model_module": "@jupyter-widgets/base",
          "model_name": "LayoutModel",
          "model_module_version": "1.2.0",
          "state": {
            "_model_module": "@jupyter-widgets/base",
            "_model_module_version": "1.2.0",
            "_model_name": "LayoutModel",
            "_view_count": null,
            "_view_module": "@jupyter-widgets/base",
            "_view_module_version": "1.2.0",
            "_view_name": "LayoutView",
            "align_content": null,
            "align_items": null,
            "align_self": null,
            "border": null,
            "bottom": null,
            "display": null,
            "flex": null,
            "flex_flow": null,
            "grid_area": null,
            "grid_auto_columns": null,
            "grid_auto_flow": null,
            "grid_auto_rows": null,
            "grid_column": null,
            "grid_gap": null,
            "grid_row": null,
            "grid_template_areas": null,
            "grid_template_columns": null,
            "grid_template_rows": null,
            "height": null,
            "justify_content": null,
            "justify_items": null,
            "left": null,
            "margin": null,
            "max_height": null,
            "max_width": null,
            "min_height": null,
            "min_width": null,
            "object_fit": null,
            "object_position": null,
            "order": null,
            "overflow": null,
            "overflow_x": null,
            "overflow_y": null,
            "padding": null,
            "right": null,
            "top": null,
            "visibility": null,
            "width": null
          }
        },
        "df3c46111ac84873a29152c0ea325dc4": {
          "model_module": "@jupyter-widgets/controls",
          "model_name": "ProgressStyleModel",
          "model_module_version": "1.5.0",
          "state": {
            "_model_module": "@jupyter-widgets/controls",
            "_model_module_version": "1.5.0",
            "_model_name": "ProgressStyleModel",
            "_view_count": null,
            "_view_module": "@jupyter-widgets/base",
            "_view_module_version": "1.2.0",
            "_view_name": "StyleView",
            "bar_color": null,
            "description_width": ""
          }
        },
        "19b306cf179a445cb8b878f77773944b": {
          "model_module": "@jupyter-widgets/base",
          "model_name": "LayoutModel",
          "model_module_version": "1.2.0",
          "state": {
            "_model_module": "@jupyter-widgets/base",
            "_model_module_version": "1.2.0",
            "_model_name": "LayoutModel",
            "_view_count": null,
            "_view_module": "@jupyter-widgets/base",
            "_view_module_version": "1.2.0",
            "_view_name": "LayoutView",
            "align_content": null,
            "align_items": null,
            "align_self": null,
            "border": null,
            "bottom": null,
            "display": null,
            "flex": null,
            "flex_flow": null,
            "grid_area": null,
            "grid_auto_columns": null,
            "grid_auto_flow": null,
            "grid_auto_rows": null,
            "grid_column": null,
            "grid_gap": null,
            "grid_row": null,
            "grid_template_areas": null,
            "grid_template_columns": null,
            "grid_template_rows": null,
            "height": null,
            "justify_content": null,
            "justify_items": null,
            "left": null,
            "margin": null,
            "max_height": null,
            "max_width": null,
            "min_height": null,
            "min_width": null,
            "object_fit": null,
            "object_position": null,
            "order": null,
            "overflow": null,
            "overflow_x": null,
            "overflow_y": null,
            "padding": null,
            "right": null,
            "top": null,
            "visibility": null,
            "width": null
          }
        },
        "36b8a417b6d5415c8c51efabee342efa": {
          "model_module": "@jupyter-widgets/controls",
          "model_name": "DescriptionStyleModel",
          "model_module_version": "1.5.0",
          "state": {
            "_model_module": "@jupyter-widgets/controls",
            "_model_module_version": "1.5.0",
            "_model_name": "DescriptionStyleModel",
            "_view_count": null,
            "_view_module": "@jupyter-widgets/base",
            "_view_module_version": "1.2.0",
            "_view_name": "StyleView",
            "description_width": ""
          }
        },
        "fe9c957f793d4b9ead3ce8572fb06a1b": {
          "model_module": "@jupyter-widgets/controls",
          "model_name": "HBoxModel",
          "model_module_version": "1.5.0",
          "state": {
            "_dom_classes": [],
            "_model_module": "@jupyter-widgets/controls",
            "_model_module_version": "1.5.0",
            "_model_name": "HBoxModel",
            "_view_count": null,
            "_view_module": "@jupyter-widgets/controls",
            "_view_module_version": "1.5.0",
            "_view_name": "HBoxView",
            "box_style": "",
            "children": [
              "IPY_MODEL_cbd0dce27cb7471499dd755defad6482",
              "IPY_MODEL_ae91eaf85f91482da6efddd981e62f8b",
              "IPY_MODEL_eb82a9ed340d4a348e72015bfb832e06"
            ],
            "layout": "IPY_MODEL_2d6238b5c77e4e638a1cc134a8372c2a"
          }
        },
        "cbd0dce27cb7471499dd755defad6482": {
          "model_module": "@jupyter-widgets/controls",
          "model_name": "HTMLModel",
          "model_module_version": "1.5.0",
          "state": {
            "_dom_classes": [],
            "_model_module": "@jupyter-widgets/controls",
            "_model_module_version": "1.5.0",
            "_model_name": "HTMLModel",
            "_view_count": null,
            "_view_module": "@jupyter-widgets/controls",
            "_view_module_version": "1.5.0",
            "_view_name": "HTMLView",
            "description": "",
            "description_tooltip": null,
            "layout": "IPY_MODEL_22acaa01da58455c8ecfe1d327960125",
            "placeholder": "​",
            "style": "IPY_MODEL_e49b88d8ed7146afab9c1042167874aa",
            "value": "special_tokens_map.json: 100%"
          }
        },
        "ae91eaf85f91482da6efddd981e62f8b": {
          "model_module": "@jupyter-widgets/controls",
          "model_name": "FloatProgressModel",
          "model_module_version": "1.5.0",
          "state": {
            "_dom_classes": [],
            "_model_module": "@jupyter-widgets/controls",
            "_model_module_version": "1.5.0",
            "_model_name": "FloatProgressModel",
            "_view_count": null,
            "_view_module": "@jupyter-widgets/controls",
            "_view_module_version": "1.5.0",
            "_view_name": "ProgressView",
            "bar_style": "success",
            "description": "",
            "description_tooltip": null,
            "layout": "IPY_MODEL_18f63421db494616bdd6d52b615dfc90",
            "max": 831,
            "min": 0,
            "orientation": "horizontal",
            "style": "IPY_MODEL_ea91edacea4642648becea30b31ad2f4",
            "value": 831
          }
        },
        "eb82a9ed340d4a348e72015bfb832e06": {
          "model_module": "@jupyter-widgets/controls",
          "model_name": "HTMLModel",
          "model_module_version": "1.5.0",
          "state": {
            "_dom_classes": [],
            "_model_module": "@jupyter-widgets/controls",
            "_model_module_version": "1.5.0",
            "_model_name": "HTMLModel",
            "_view_count": null,
            "_view_module": "@jupyter-widgets/controls",
            "_view_module_version": "1.5.0",
            "_view_name": "HTMLView",
            "description": "",
            "description_tooltip": null,
            "layout": "IPY_MODEL_3bb0b97c1ee84107a74edf4b4b33fcde",
            "placeholder": "​",
            "style": "IPY_MODEL_de697170dd914824bcdba31642784eeb",
            "value": " 831/831 [00:00&lt;00:00, 20.8kB/s]"
          }
        },
        "2d6238b5c77e4e638a1cc134a8372c2a": {
          "model_module": "@jupyter-widgets/base",
          "model_name": "LayoutModel",
          "model_module_version": "1.2.0",
          "state": {
            "_model_module": "@jupyter-widgets/base",
            "_model_module_version": "1.2.0",
            "_model_name": "LayoutModel",
            "_view_count": null,
            "_view_module": "@jupyter-widgets/base",
            "_view_module_version": "1.2.0",
            "_view_name": "LayoutView",
            "align_content": null,
            "align_items": null,
            "align_self": null,
            "border": null,
            "bottom": null,
            "display": null,
            "flex": null,
            "flex_flow": null,
            "grid_area": null,
            "grid_auto_columns": null,
            "grid_auto_flow": null,
            "grid_auto_rows": null,
            "grid_column": null,
            "grid_gap": null,
            "grid_row": null,
            "grid_template_areas": null,
            "grid_template_columns": null,
            "grid_template_rows": null,
            "height": null,
            "justify_content": null,
            "justify_items": null,
            "left": null,
            "margin": null,
            "max_height": null,
            "max_width": null,
            "min_height": null,
            "min_width": null,
            "object_fit": null,
            "object_position": null,
            "order": null,
            "overflow": null,
            "overflow_x": null,
            "overflow_y": null,
            "padding": null,
            "right": null,
            "top": null,
            "visibility": null,
            "width": null
          }
        },
        "22acaa01da58455c8ecfe1d327960125": {
          "model_module": "@jupyter-widgets/base",
          "model_name": "LayoutModel",
          "model_module_version": "1.2.0",
          "state": {
            "_model_module": "@jupyter-widgets/base",
            "_model_module_version": "1.2.0",
            "_model_name": "LayoutModel",
            "_view_count": null,
            "_view_module": "@jupyter-widgets/base",
            "_view_module_version": "1.2.0",
            "_view_name": "LayoutView",
            "align_content": null,
            "align_items": null,
            "align_self": null,
            "border": null,
            "bottom": null,
            "display": null,
            "flex": null,
            "flex_flow": null,
            "grid_area": null,
            "grid_auto_columns": null,
            "grid_auto_flow": null,
            "grid_auto_rows": null,
            "grid_column": null,
            "grid_gap": null,
            "grid_row": null,
            "grid_template_areas": null,
            "grid_template_columns": null,
            "grid_template_rows": null,
            "height": null,
            "justify_content": null,
            "justify_items": null,
            "left": null,
            "margin": null,
            "max_height": null,
            "max_width": null,
            "min_height": null,
            "min_width": null,
            "object_fit": null,
            "object_position": null,
            "order": null,
            "overflow": null,
            "overflow_x": null,
            "overflow_y": null,
            "padding": null,
            "right": null,
            "top": null,
            "visibility": null,
            "width": null
          }
        },
        "e49b88d8ed7146afab9c1042167874aa": {
          "model_module": "@jupyter-widgets/controls",
          "model_name": "DescriptionStyleModel",
          "model_module_version": "1.5.0",
          "state": {
            "_model_module": "@jupyter-widgets/controls",
            "_model_module_version": "1.5.0",
            "_model_name": "DescriptionStyleModel",
            "_view_count": null,
            "_view_module": "@jupyter-widgets/base",
            "_view_module_version": "1.2.0",
            "_view_name": "StyleView",
            "description_width": ""
          }
        },
        "18f63421db494616bdd6d52b615dfc90": {
          "model_module": "@jupyter-widgets/base",
          "model_name": "LayoutModel",
          "model_module_version": "1.2.0",
          "state": {
            "_model_module": "@jupyter-widgets/base",
            "_model_module_version": "1.2.0",
            "_model_name": "LayoutModel",
            "_view_count": null,
            "_view_module": "@jupyter-widgets/base",
            "_view_module_version": "1.2.0",
            "_view_name": "LayoutView",
            "align_content": null,
            "align_items": null,
            "align_self": null,
            "border": null,
            "bottom": null,
            "display": null,
            "flex": null,
            "flex_flow": null,
            "grid_area": null,
            "grid_auto_columns": null,
            "grid_auto_flow": null,
            "grid_auto_rows": null,
            "grid_column": null,
            "grid_gap": null,
            "grid_row": null,
            "grid_template_areas": null,
            "grid_template_columns": null,
            "grid_template_rows": null,
            "height": null,
            "justify_content": null,
            "justify_items": null,
            "left": null,
            "margin": null,
            "max_height": null,
            "max_width": null,
            "min_height": null,
            "min_width": null,
            "object_fit": null,
            "object_position": null,
            "order": null,
            "overflow": null,
            "overflow_x": null,
            "overflow_y": null,
            "padding": null,
            "right": null,
            "top": null,
            "visibility": null,
            "width": null
          }
        },
        "ea91edacea4642648becea30b31ad2f4": {
          "model_module": "@jupyter-widgets/controls",
          "model_name": "ProgressStyleModel",
          "model_module_version": "1.5.0",
          "state": {
            "_model_module": "@jupyter-widgets/controls",
            "_model_module_version": "1.5.0",
            "_model_name": "ProgressStyleModel",
            "_view_count": null,
            "_view_module": "@jupyter-widgets/base",
            "_view_module_version": "1.2.0",
            "_view_name": "StyleView",
            "bar_color": null,
            "description_width": ""
          }
        },
        "3bb0b97c1ee84107a74edf4b4b33fcde": {
          "model_module": "@jupyter-widgets/base",
          "model_name": "LayoutModel",
          "model_module_version": "1.2.0",
          "state": {
            "_model_module": "@jupyter-widgets/base",
            "_model_module_version": "1.2.0",
            "_model_name": "LayoutModel",
            "_view_count": null,
            "_view_module": "@jupyter-widgets/base",
            "_view_module_version": "1.2.0",
            "_view_name": "LayoutView",
            "align_content": null,
            "align_items": null,
            "align_self": null,
            "border": null,
            "bottom": null,
            "display": null,
            "flex": null,
            "flex_flow": null,
            "grid_area": null,
            "grid_auto_columns": null,
            "grid_auto_flow": null,
            "grid_auto_rows": null,
            "grid_column": null,
            "grid_gap": null,
            "grid_row": null,
            "grid_template_areas": null,
            "grid_template_columns": null,
            "grid_template_rows": null,
            "height": null,
            "justify_content": null,
            "justify_items": null,
            "left": null,
            "margin": null,
            "max_height": null,
            "max_width": null,
            "min_height": null,
            "min_width": null,
            "object_fit": null,
            "object_position": null,
            "order": null,
            "overflow": null,
            "overflow_x": null,
            "overflow_y": null,
            "padding": null,
            "right": null,
            "top": null,
            "visibility": null,
            "width": null
          }
        },
        "de697170dd914824bcdba31642784eeb": {
          "model_module": "@jupyter-widgets/controls",
          "model_name": "DescriptionStyleModel",
          "model_module_version": "1.5.0",
          "state": {
            "_model_module": "@jupyter-widgets/controls",
            "_model_module_version": "1.5.0",
            "_model_name": "DescriptionStyleModel",
            "_view_count": null,
            "_view_module": "@jupyter-widgets/base",
            "_view_module_version": "1.2.0",
            "_view_name": "StyleView",
            "description_width": ""
          }
        },
        "d049c82372034a4893e04347a0122e3b": {
          "model_module": "@jupyter-widgets/controls",
          "model_name": "HBoxModel",
          "model_module_version": "1.5.0",
          "state": {
            "_dom_classes": [],
            "_model_module": "@jupyter-widgets/controls",
            "_model_module_version": "1.5.0",
            "_model_name": "HBoxModel",
            "_view_count": null,
            "_view_module": "@jupyter-widgets/controls",
            "_view_module_version": "1.5.0",
            "_view_name": "HBoxView",
            "box_style": "",
            "children": [
              "IPY_MODEL_f9c7fae87c3448179ff8874926f576ae",
              "IPY_MODEL_febae66e5aab4758ab5dc8bfd8cd6ca6",
              "IPY_MODEL_302581c61a784be2bc81644f169f8983"
            ],
            "layout": "IPY_MODEL_d73e190beeae48218ff495995c7a6a35"
          }
        },
        "f9c7fae87c3448179ff8874926f576ae": {
          "model_module": "@jupyter-widgets/controls",
          "model_name": "HTMLModel",
          "model_module_version": "1.5.0",
          "state": {
            "_dom_classes": [],
            "_model_module": "@jupyter-widgets/controls",
            "_model_module_version": "1.5.0",
            "_model_name": "HTMLModel",
            "_view_count": null,
            "_view_module": "@jupyter-widgets/controls",
            "_view_module_version": "1.5.0",
            "_view_name": "HTMLView",
            "description": "",
            "description_tooltip": null,
            "layout": "IPY_MODEL_3d2cba9103814aa18a1bd2ddcefe1c4b",
            "placeholder": "​",
            "style": "IPY_MODEL_8774cecba449414493413966c58038e6",
            "value": "config.json: 100%"
          }
        },
        "febae66e5aab4758ab5dc8bfd8cd6ca6": {
          "model_module": "@jupyter-widgets/controls",
          "model_name": "FloatProgressModel",
          "model_module_version": "1.5.0",
          "state": {
            "_dom_classes": [],
            "_model_module": "@jupyter-widgets/controls",
            "_model_module_version": "1.5.0",
            "_model_name": "FloatProgressModel",
            "_view_count": null,
            "_view_module": "@jupyter-widgets/controls",
            "_view_module_version": "1.5.0",
            "_view_name": "ProgressView",
            "bar_style": "success",
            "description": "",
            "description_tooltip": null,
            "layout": "IPY_MODEL_28240571a0714abeae5355ab4c19cd0d",
            "max": 698,
            "min": 0,
            "orientation": "horizontal",
            "style": "IPY_MODEL_7f5e79d8edef4aac905d684751f53be1",
            "value": 698
          }
        },
        "302581c61a784be2bc81644f169f8983": {
          "model_module": "@jupyter-widgets/controls",
          "model_name": "HTMLModel",
          "model_module_version": "1.5.0",
          "state": {
            "_dom_classes": [],
            "_model_module": "@jupyter-widgets/controls",
            "_model_module_version": "1.5.0",
            "_model_name": "HTMLModel",
            "_view_count": null,
            "_view_module": "@jupyter-widgets/controls",
            "_view_module_version": "1.5.0",
            "_view_name": "HTMLView",
            "description": "",
            "description_tooltip": null,
            "layout": "IPY_MODEL_d4a9ef4880c24c7bba25ea1aec90e0a3",
            "placeholder": "​",
            "style": "IPY_MODEL_45c42196dc8444dea33f247b40146d74",
            "value": " 698/698 [00:00&lt;00:00, 10.0kB/s]"
          }
        },
        "d73e190beeae48218ff495995c7a6a35": {
          "model_module": "@jupyter-widgets/base",
          "model_name": "LayoutModel",
          "model_module_version": "1.2.0",
          "state": {
            "_model_module": "@jupyter-widgets/base",
            "_model_module_version": "1.2.0",
            "_model_name": "LayoutModel",
            "_view_count": null,
            "_view_module": "@jupyter-widgets/base",
            "_view_module_version": "1.2.0",
            "_view_name": "LayoutView",
            "align_content": null,
            "align_items": null,
            "align_self": null,
            "border": null,
            "bottom": null,
            "display": null,
            "flex": null,
            "flex_flow": null,
            "grid_area": null,
            "grid_auto_columns": null,
            "grid_auto_flow": null,
            "grid_auto_rows": null,
            "grid_column": null,
            "grid_gap": null,
            "grid_row": null,
            "grid_template_areas": null,
            "grid_template_columns": null,
            "grid_template_rows": null,
            "height": null,
            "justify_content": null,
            "justify_items": null,
            "left": null,
            "margin": null,
            "max_height": null,
            "max_width": null,
            "min_height": null,
            "min_width": null,
            "object_fit": null,
            "object_position": null,
            "order": null,
            "overflow": null,
            "overflow_x": null,
            "overflow_y": null,
            "padding": null,
            "right": null,
            "top": null,
            "visibility": null,
            "width": null
          }
        },
        "3d2cba9103814aa18a1bd2ddcefe1c4b": {
          "model_module": "@jupyter-widgets/base",
          "model_name": "LayoutModel",
          "model_module_version": "1.2.0",
          "state": {
            "_model_module": "@jupyter-widgets/base",
            "_model_module_version": "1.2.0",
            "_model_name": "LayoutModel",
            "_view_count": null,
            "_view_module": "@jupyter-widgets/base",
            "_view_module_version": "1.2.0",
            "_view_name": "LayoutView",
            "align_content": null,
            "align_items": null,
            "align_self": null,
            "border": null,
            "bottom": null,
            "display": null,
            "flex": null,
            "flex_flow": null,
            "grid_area": null,
            "grid_auto_columns": null,
            "grid_auto_flow": null,
            "grid_auto_rows": null,
            "grid_column": null,
            "grid_gap": null,
            "grid_row": null,
            "grid_template_areas": null,
            "grid_template_columns": null,
            "grid_template_rows": null,
            "height": null,
            "justify_content": null,
            "justify_items": null,
            "left": null,
            "margin": null,
            "max_height": null,
            "max_width": null,
            "min_height": null,
            "min_width": null,
            "object_fit": null,
            "object_position": null,
            "order": null,
            "overflow": null,
            "overflow_x": null,
            "overflow_y": null,
            "padding": null,
            "right": null,
            "top": null,
            "visibility": null,
            "width": null
          }
        },
        "8774cecba449414493413966c58038e6": {
          "model_module": "@jupyter-widgets/controls",
          "model_name": "DescriptionStyleModel",
          "model_module_version": "1.5.0",
          "state": {
            "_model_module": "@jupyter-widgets/controls",
            "_model_module_version": "1.5.0",
            "_model_name": "DescriptionStyleModel",
            "_view_count": null,
            "_view_module": "@jupyter-widgets/base",
            "_view_module_version": "1.2.0",
            "_view_name": "StyleView",
            "description_width": ""
          }
        },
        "28240571a0714abeae5355ab4c19cd0d": {
          "model_module": "@jupyter-widgets/base",
          "model_name": "LayoutModel",
          "model_module_version": "1.2.0",
          "state": {
            "_model_module": "@jupyter-widgets/base",
            "_model_module_version": "1.2.0",
            "_model_name": "LayoutModel",
            "_view_count": null,
            "_view_module": "@jupyter-widgets/base",
            "_view_module_version": "1.2.0",
            "_view_name": "LayoutView",
            "align_content": null,
            "align_items": null,
            "align_self": null,
            "border": null,
            "bottom": null,
            "display": null,
            "flex": null,
            "flex_flow": null,
            "grid_area": null,
            "grid_auto_columns": null,
            "grid_auto_flow": null,
            "grid_auto_rows": null,
            "grid_column": null,
            "grid_gap": null,
            "grid_row": null,
            "grid_template_areas": null,
            "grid_template_columns": null,
            "grid_template_rows": null,
            "height": null,
            "justify_content": null,
            "justify_items": null,
            "left": null,
            "margin": null,
            "max_height": null,
            "max_width": null,
            "min_height": null,
            "min_width": null,
            "object_fit": null,
            "object_position": null,
            "order": null,
            "overflow": null,
            "overflow_x": null,
            "overflow_y": null,
            "padding": null,
            "right": null,
            "top": null,
            "visibility": null,
            "width": null
          }
        },
        "7f5e79d8edef4aac905d684751f53be1": {
          "model_module": "@jupyter-widgets/controls",
          "model_name": "ProgressStyleModel",
          "model_module_version": "1.5.0",
          "state": {
            "_model_module": "@jupyter-widgets/controls",
            "_model_module_version": "1.5.0",
            "_model_name": "ProgressStyleModel",
            "_view_count": null,
            "_view_module": "@jupyter-widgets/base",
            "_view_module_version": "1.2.0",
            "_view_name": "StyleView",
            "bar_color": null,
            "description_width": ""
          }
        },
        "d4a9ef4880c24c7bba25ea1aec90e0a3": {
          "model_module": "@jupyter-widgets/base",
          "model_name": "LayoutModel",
          "model_module_version": "1.2.0",
          "state": {
            "_model_module": "@jupyter-widgets/base",
            "_model_module_version": "1.2.0",
            "_model_name": "LayoutModel",
            "_view_count": null,
            "_view_module": "@jupyter-widgets/base",
            "_view_module_version": "1.2.0",
            "_view_name": "LayoutView",
            "align_content": null,
            "align_items": null,
            "align_self": null,
            "border": null,
            "bottom": null,
            "display": null,
            "flex": null,
            "flex_flow": null,
            "grid_area": null,
            "grid_auto_columns": null,
            "grid_auto_flow": null,
            "grid_auto_rows": null,
            "grid_column": null,
            "grid_gap": null,
            "grid_row": null,
            "grid_template_areas": null,
            "grid_template_columns": null,
            "grid_template_rows": null,
            "height": null,
            "justify_content": null,
            "justify_items": null,
            "left": null,
            "margin": null,
            "max_height": null,
            "max_width": null,
            "min_height": null,
            "min_width": null,
            "object_fit": null,
            "object_position": null,
            "order": null,
            "overflow": null,
            "overflow_x": null,
            "overflow_y": null,
            "padding": null,
            "right": null,
            "top": null,
            "visibility": null,
            "width": null
          }
        },
        "45c42196dc8444dea33f247b40146d74": {
          "model_module": "@jupyter-widgets/controls",
          "model_name": "DescriptionStyleModel",
          "model_module_version": "1.5.0",
          "state": {
            "_model_module": "@jupyter-widgets/controls",
            "_model_module_version": "1.5.0",
            "_model_name": "DescriptionStyleModel",
            "_view_count": null,
            "_view_module": "@jupyter-widgets/base",
            "_view_module_version": "1.2.0",
            "_view_name": "StyleView",
            "description_width": ""
          }
        },
        "67594ac237b54af58db06ec50dff8d86": {
          "model_module": "@jupyter-widgets/controls",
          "model_name": "HBoxModel",
          "model_module_version": "1.5.0",
          "state": {
            "_dom_classes": [],
            "_model_module": "@jupyter-widgets/controls",
            "_model_module_version": "1.5.0",
            "_model_name": "HBoxModel",
            "_view_count": null,
            "_view_module": "@jupyter-widgets/controls",
            "_view_module_version": "1.5.0",
            "_view_name": "HBoxView",
            "box_style": "",
            "children": [
              "IPY_MODEL_0333843d92c448199fabfd8394f1e70a",
              "IPY_MODEL_9b357abb443741f7aa0fbbcd6b2f8df0",
              "IPY_MODEL_0216ed6a3dd84905bc8ee0225e4f4673"
            ],
            "layout": "IPY_MODEL_f70668f0ffe4466fa2a0e6f0fb72d132"
          }
        },
        "0333843d92c448199fabfd8394f1e70a": {
          "model_module": "@jupyter-widgets/controls",
          "model_name": "HTMLModel",
          "model_module_version": "1.5.0",
          "state": {
            "_dom_classes": [],
            "_model_module": "@jupyter-widgets/controls",
            "_model_module_version": "1.5.0",
            "_model_name": "HTMLModel",
            "_view_count": null,
            "_view_module": "@jupyter-widgets/controls",
            "_view_module_version": "1.5.0",
            "_view_name": "HTMLView",
            "description": "",
            "description_tooltip": null,
            "layout": "IPY_MODEL_00328f2330bb4844a76436f2bdf1685f",
            "placeholder": "​",
            "style": "IPY_MODEL_fb1b7b7139a946568692e0552ea7d70c",
            "value": "model.safetensors.index.json: 100%"
          }
        },
        "9b357abb443741f7aa0fbbcd6b2f8df0": {
          "model_module": "@jupyter-widgets/controls",
          "model_name": "FloatProgressModel",
          "model_module_version": "1.5.0",
          "state": {
            "_dom_classes": [],
            "_model_module": "@jupyter-widgets/controls",
            "_model_module_version": "1.5.0",
            "_model_name": "FloatProgressModel",
            "_view_count": null,
            "_view_module": "@jupyter-widgets/controls",
            "_view_module_version": "1.5.0",
            "_view_name": "ProgressView",
            "bar_style": "success",
            "description": "",
            "description_tooltip": null,
            "layout": "IPY_MODEL_2f02caff94d8402592ae98f54088769c",
            "max": 17947,
            "min": 0,
            "orientation": "horizontal",
            "style": "IPY_MODEL_9d70523cd5494c29a1878d2656462ea4",
            "value": 17947
          }
        },
        "0216ed6a3dd84905bc8ee0225e4f4673": {
          "model_module": "@jupyter-widgets/controls",
          "model_name": "HTMLModel",
          "model_module_version": "1.5.0",
          "state": {
            "_dom_classes": [],
            "_model_module": "@jupyter-widgets/controls",
            "_model_module_version": "1.5.0",
            "_model_name": "HTMLModel",
            "_view_count": null,
            "_view_module": "@jupyter-widgets/controls",
            "_view_module_version": "1.5.0",
            "_view_name": "HTMLView",
            "description": "",
            "description_tooltip": null,
            "layout": "IPY_MODEL_19bf3450f6814592b9e958347902efd1",
            "placeholder": "​",
            "style": "IPY_MODEL_9c7de0b90a0e48248450dc995f6570d8",
            "value": " 17.9k/17.9k [00:00&lt;00:00, 329kB/s]"
          }
        },
        "f70668f0ffe4466fa2a0e6f0fb72d132": {
          "model_module": "@jupyter-widgets/base",
          "model_name": "LayoutModel",
          "model_module_version": "1.2.0",
          "state": {
            "_model_module": "@jupyter-widgets/base",
            "_model_module_version": "1.2.0",
            "_model_name": "LayoutModel",
            "_view_count": null,
            "_view_module": "@jupyter-widgets/base",
            "_view_module_version": "1.2.0",
            "_view_name": "LayoutView",
            "align_content": null,
            "align_items": null,
            "align_self": null,
            "border": null,
            "bottom": null,
            "display": null,
            "flex": null,
            "flex_flow": null,
            "grid_area": null,
            "grid_auto_columns": null,
            "grid_auto_flow": null,
            "grid_auto_rows": null,
            "grid_column": null,
            "grid_gap": null,
            "grid_row": null,
            "grid_template_areas": null,
            "grid_template_columns": null,
            "grid_template_rows": null,
            "height": null,
            "justify_content": null,
            "justify_items": null,
            "left": null,
            "margin": null,
            "max_height": null,
            "max_width": null,
            "min_height": null,
            "min_width": null,
            "object_fit": null,
            "object_position": null,
            "order": null,
            "overflow": null,
            "overflow_x": null,
            "overflow_y": null,
            "padding": null,
            "right": null,
            "top": null,
            "visibility": null,
            "width": null
          }
        },
        "00328f2330bb4844a76436f2bdf1685f": {
          "model_module": "@jupyter-widgets/base",
          "model_name": "LayoutModel",
          "model_module_version": "1.2.0",
          "state": {
            "_model_module": "@jupyter-widgets/base",
            "_model_module_version": "1.2.0",
            "_model_name": "LayoutModel",
            "_view_count": null,
            "_view_module": "@jupyter-widgets/base",
            "_view_module_version": "1.2.0",
            "_view_name": "LayoutView",
            "align_content": null,
            "align_items": null,
            "align_self": null,
            "border": null,
            "bottom": null,
            "display": null,
            "flex": null,
            "flex_flow": null,
            "grid_area": null,
            "grid_auto_columns": null,
            "grid_auto_flow": null,
            "grid_auto_rows": null,
            "grid_column": null,
            "grid_gap": null,
            "grid_row": null,
            "grid_template_areas": null,
            "grid_template_columns": null,
            "grid_template_rows": null,
            "height": null,
            "justify_content": null,
            "justify_items": null,
            "left": null,
            "margin": null,
            "max_height": null,
            "max_width": null,
            "min_height": null,
            "min_width": null,
            "object_fit": null,
            "object_position": null,
            "order": null,
            "overflow": null,
            "overflow_x": null,
            "overflow_y": null,
            "padding": null,
            "right": null,
            "top": null,
            "visibility": null,
            "width": null
          }
        },
        "fb1b7b7139a946568692e0552ea7d70c": {
          "model_module": "@jupyter-widgets/controls",
          "model_name": "DescriptionStyleModel",
          "model_module_version": "1.5.0",
          "state": {
            "_model_module": "@jupyter-widgets/controls",
            "_model_module_version": "1.5.0",
            "_model_name": "DescriptionStyleModel",
            "_view_count": null,
            "_view_module": "@jupyter-widgets/base",
            "_view_module_version": "1.2.0",
            "_view_name": "StyleView",
            "description_width": ""
          }
        },
        "2f02caff94d8402592ae98f54088769c": {
          "model_module": "@jupyter-widgets/base",
          "model_name": "LayoutModel",
          "model_module_version": "1.2.0",
          "state": {
            "_model_module": "@jupyter-widgets/base",
            "_model_module_version": "1.2.0",
            "_model_name": "LayoutModel",
            "_view_count": null,
            "_view_module": "@jupyter-widgets/base",
            "_view_module_version": "1.2.0",
            "_view_name": "LayoutView",
            "align_content": null,
            "align_items": null,
            "align_self": null,
            "border": null,
            "bottom": null,
            "display": null,
            "flex": null,
            "flex_flow": null,
            "grid_area": null,
            "grid_auto_columns": null,
            "grid_auto_flow": null,
            "grid_auto_rows": null,
            "grid_column": null,
            "grid_gap": null,
            "grid_row": null,
            "grid_template_areas": null,
            "grid_template_columns": null,
            "grid_template_rows": null,
            "height": null,
            "justify_content": null,
            "justify_items": null,
            "left": null,
            "margin": null,
            "max_height": null,
            "max_width": null,
            "min_height": null,
            "min_width": null,
            "object_fit": null,
            "object_position": null,
            "order": null,
            "overflow": null,
            "overflow_x": null,
            "overflow_y": null,
            "padding": null,
            "right": null,
            "top": null,
            "visibility": null,
            "width": null
          }
        },
        "9d70523cd5494c29a1878d2656462ea4": {
          "model_module": "@jupyter-widgets/controls",
          "model_name": "ProgressStyleModel",
          "model_module_version": "1.5.0",
          "state": {
            "_model_module": "@jupyter-widgets/controls",
            "_model_module_version": "1.5.0",
            "_model_name": "ProgressStyleModel",
            "_view_count": null,
            "_view_module": "@jupyter-widgets/base",
            "_view_module_version": "1.2.0",
            "_view_name": "StyleView",
            "bar_color": null,
            "description_width": ""
          }
        },
        "19bf3450f6814592b9e958347902efd1": {
          "model_module": "@jupyter-widgets/base",
          "model_name": "LayoutModel",
          "model_module_version": "1.2.0",
          "state": {
            "_model_module": "@jupyter-widgets/base",
            "_model_module_version": "1.2.0",
            "_model_name": "LayoutModel",
            "_view_count": null,
            "_view_module": "@jupyter-widgets/base",
            "_view_module_version": "1.2.0",
            "_view_name": "LayoutView",
            "align_content": null,
            "align_items": null,
            "align_self": null,
            "border": null,
            "bottom": null,
            "display": null,
            "flex": null,
            "flex_flow": null,
            "grid_area": null,
            "grid_auto_columns": null,
            "grid_auto_flow": null,
            "grid_auto_rows": null,
            "grid_column": null,
            "grid_gap": null,
            "grid_row": null,
            "grid_template_areas": null,
            "grid_template_columns": null,
            "grid_template_rows": null,
            "height": null,
            "justify_content": null,
            "justify_items": null,
            "left": null,
            "margin": null,
            "max_height": null,
            "max_width": null,
            "min_height": null,
            "min_width": null,
            "object_fit": null,
            "object_position": null,
            "order": null,
            "overflow": null,
            "overflow_x": null,
            "overflow_y": null,
            "padding": null,
            "right": null,
            "top": null,
            "visibility": null,
            "width": null
          }
        },
        "9c7de0b90a0e48248450dc995f6570d8": {
          "model_module": "@jupyter-widgets/controls",
          "model_name": "DescriptionStyleModel",
          "model_module_version": "1.5.0",
          "state": {
            "_model_module": "@jupyter-widgets/controls",
            "_model_module_version": "1.5.0",
            "_model_name": "DescriptionStyleModel",
            "_view_count": null,
            "_view_module": "@jupyter-widgets/base",
            "_view_module_version": "1.2.0",
            "_view_name": "StyleView",
            "description_width": ""
          }
        },
        "0aebda03c9334f3696bcb62a57b8a43a": {
          "model_module": "@jupyter-widgets/controls",
          "model_name": "HBoxModel",
          "model_module_version": "1.5.0",
          "state": {
            "_dom_classes": [],
            "_model_module": "@jupyter-widgets/controls",
            "_model_module_version": "1.5.0",
            "_model_name": "HBoxModel",
            "_view_count": null,
            "_view_module": "@jupyter-widgets/controls",
            "_view_module_version": "1.5.0",
            "_view_name": "HBoxView",
            "box_style": "",
            "children": [
              "IPY_MODEL_7cd9f3c9a99648b1b25bc53c7ef41d82",
              "IPY_MODEL_86586e13f136446a9cb77bd85883cd29",
              "IPY_MODEL_3b45e1a4d32147e886cbf245298ccc70"
            ],
            "layout": "IPY_MODEL_c3c71fc8d07f4eab84e3c7c1bd40a2c3"
          }
        },
        "7cd9f3c9a99648b1b25bc53c7ef41d82": {
          "model_module": "@jupyter-widgets/controls",
          "model_name": "HTMLModel",
          "model_module_version": "1.5.0",
          "state": {
            "_dom_classes": [],
            "_model_module": "@jupyter-widgets/controls",
            "_model_module_version": "1.5.0",
            "_model_name": "HTMLModel",
            "_view_count": null,
            "_view_module": "@jupyter-widgets/controls",
            "_view_module_version": "1.5.0",
            "_view_name": "HTMLView",
            "description": "",
            "description_tooltip": null,
            "layout": "IPY_MODEL_bba0752547c44bbabdf765943db5bb21",
            "placeholder": "​",
            "style": "IPY_MODEL_4088679e6a354b108c6fe9fc7e23f56a",
            "value": "Downloading shards: 100%"
          }
        },
        "86586e13f136446a9cb77bd85883cd29": {
          "model_module": "@jupyter-widgets/controls",
          "model_name": "FloatProgressModel",
          "model_module_version": "1.5.0",
          "state": {
            "_dom_classes": [],
            "_model_module": "@jupyter-widgets/controls",
            "_model_module_version": "1.5.0",
            "_model_name": "FloatProgressModel",
            "_view_count": null,
            "_view_module": "@jupyter-widgets/controls",
            "_view_module_version": "1.5.0",
            "_view_name": "ProgressView",
            "bar_style": "success",
            "description": "",
            "description_tooltip": null,
            "layout": "IPY_MODEL_b2aeeef7b1ab4f858c3d000d30a7f20d",
            "max": 2,
            "min": 0,
            "orientation": "horizontal",
            "style": "IPY_MODEL_e7b09fe457a4469ea897a3b6a091c9fb",
            "value": 2
          }
        },
        "3b45e1a4d32147e886cbf245298ccc70": {
          "model_module": "@jupyter-widgets/controls",
          "model_name": "HTMLModel",
          "model_module_version": "1.5.0",
          "state": {
            "_dom_classes": [],
            "_model_module": "@jupyter-widgets/controls",
            "_model_module_version": "1.5.0",
            "_model_name": "HTMLModel",
            "_view_count": null,
            "_view_module": "@jupyter-widgets/controls",
            "_view_module_version": "1.5.0",
            "_view_name": "HTMLView",
            "description": "",
            "description_tooltip": null,
            "layout": "IPY_MODEL_04f2ada2f62a456bb54858eca4df8727",
            "placeholder": "​",
            "style": "IPY_MODEL_cff9951dd6514ccb9a10be36e78930ac",
            "value": " 2/2 [02:42&lt;00:00, 74.59s/it]"
          }
        },
        "c3c71fc8d07f4eab84e3c7c1bd40a2c3": {
          "model_module": "@jupyter-widgets/base",
          "model_name": "LayoutModel",
          "model_module_version": "1.2.0",
          "state": {
            "_model_module": "@jupyter-widgets/base",
            "_model_module_version": "1.2.0",
            "_model_name": "LayoutModel",
            "_view_count": null,
            "_view_module": "@jupyter-widgets/base",
            "_view_module_version": "1.2.0",
            "_view_name": "LayoutView",
            "align_content": null,
            "align_items": null,
            "align_self": null,
            "border": null,
            "bottom": null,
            "display": null,
            "flex": null,
            "flex_flow": null,
            "grid_area": null,
            "grid_auto_columns": null,
            "grid_auto_flow": null,
            "grid_auto_rows": null,
            "grid_column": null,
            "grid_gap": null,
            "grid_row": null,
            "grid_template_areas": null,
            "grid_template_columns": null,
            "grid_template_rows": null,
            "height": null,
            "justify_content": null,
            "justify_items": null,
            "left": null,
            "margin": null,
            "max_height": null,
            "max_width": null,
            "min_height": null,
            "min_width": null,
            "object_fit": null,
            "object_position": null,
            "order": null,
            "overflow": null,
            "overflow_x": null,
            "overflow_y": null,
            "padding": null,
            "right": null,
            "top": null,
            "visibility": null,
            "width": null
          }
        },
        "bba0752547c44bbabdf765943db5bb21": {
          "model_module": "@jupyter-widgets/base",
          "model_name": "LayoutModel",
          "model_module_version": "1.2.0",
          "state": {
            "_model_module": "@jupyter-widgets/base",
            "_model_module_version": "1.2.0",
            "_model_name": "LayoutModel",
            "_view_count": null,
            "_view_module": "@jupyter-widgets/base",
            "_view_module_version": "1.2.0",
            "_view_name": "LayoutView",
            "align_content": null,
            "align_items": null,
            "align_self": null,
            "border": null,
            "bottom": null,
            "display": null,
            "flex": null,
            "flex_flow": null,
            "grid_area": null,
            "grid_auto_columns": null,
            "grid_auto_flow": null,
            "grid_auto_rows": null,
            "grid_column": null,
            "grid_gap": null,
            "grid_row": null,
            "grid_template_areas": null,
            "grid_template_columns": null,
            "grid_template_rows": null,
            "height": null,
            "justify_content": null,
            "justify_items": null,
            "left": null,
            "margin": null,
            "max_height": null,
            "max_width": null,
            "min_height": null,
            "min_width": null,
            "object_fit": null,
            "object_position": null,
            "order": null,
            "overflow": null,
            "overflow_x": null,
            "overflow_y": null,
            "padding": null,
            "right": null,
            "top": null,
            "visibility": null,
            "width": null
          }
        },
        "4088679e6a354b108c6fe9fc7e23f56a": {
          "model_module": "@jupyter-widgets/controls",
          "model_name": "DescriptionStyleModel",
          "model_module_version": "1.5.0",
          "state": {
            "_model_module": "@jupyter-widgets/controls",
            "_model_module_version": "1.5.0",
            "_model_name": "DescriptionStyleModel",
            "_view_count": null,
            "_view_module": "@jupyter-widgets/base",
            "_view_module_version": "1.2.0",
            "_view_name": "StyleView",
            "description_width": ""
          }
        },
        "b2aeeef7b1ab4f858c3d000d30a7f20d": {
          "model_module": "@jupyter-widgets/base",
          "model_name": "LayoutModel",
          "model_module_version": "1.2.0",
          "state": {
            "_model_module": "@jupyter-widgets/base",
            "_model_module_version": "1.2.0",
            "_model_name": "LayoutModel",
            "_view_count": null,
            "_view_module": "@jupyter-widgets/base",
            "_view_module_version": "1.2.0",
            "_view_name": "LayoutView",
            "align_content": null,
            "align_items": null,
            "align_self": null,
            "border": null,
            "bottom": null,
            "display": null,
            "flex": null,
            "flex_flow": null,
            "grid_area": null,
            "grid_auto_columns": null,
            "grid_auto_flow": null,
            "grid_auto_rows": null,
            "grid_column": null,
            "grid_gap": null,
            "grid_row": null,
            "grid_template_areas": null,
            "grid_template_columns": null,
            "grid_template_rows": null,
            "height": null,
            "justify_content": null,
            "justify_items": null,
            "left": null,
            "margin": null,
            "max_height": null,
            "max_width": null,
            "min_height": null,
            "min_width": null,
            "object_fit": null,
            "object_position": null,
            "order": null,
            "overflow": null,
            "overflow_x": null,
            "overflow_y": null,
            "padding": null,
            "right": null,
            "top": null,
            "visibility": null,
            "width": null
          }
        },
        "e7b09fe457a4469ea897a3b6a091c9fb": {
          "model_module": "@jupyter-widgets/controls",
          "model_name": "ProgressStyleModel",
          "model_module_version": "1.5.0",
          "state": {
            "_model_module": "@jupyter-widgets/controls",
            "_model_module_version": "1.5.0",
            "_model_name": "ProgressStyleModel",
            "_view_count": null,
            "_view_module": "@jupyter-widgets/base",
            "_view_module_version": "1.2.0",
            "_view_name": "StyleView",
            "bar_color": null,
            "description_width": ""
          }
        },
        "04f2ada2f62a456bb54858eca4df8727": {
          "model_module": "@jupyter-widgets/base",
          "model_name": "LayoutModel",
          "model_module_version": "1.2.0",
          "state": {
            "_model_module": "@jupyter-widgets/base",
            "_model_module_version": "1.2.0",
            "_model_name": "LayoutModel",
            "_view_count": null,
            "_view_module": "@jupyter-widgets/base",
            "_view_module_version": "1.2.0",
            "_view_name": "LayoutView",
            "align_content": null,
            "align_items": null,
            "align_self": null,
            "border": null,
            "bottom": null,
            "display": null,
            "flex": null,
            "flex_flow": null,
            "grid_area": null,
            "grid_auto_columns": null,
            "grid_auto_flow": null,
            "grid_auto_rows": null,
            "grid_column": null,
            "grid_gap": null,
            "grid_row": null,
            "grid_template_areas": null,
            "grid_template_columns": null,
            "grid_template_rows": null,
            "height": null,
            "justify_content": null,
            "justify_items": null,
            "left": null,
            "margin": null,
            "max_height": null,
            "max_width": null,
            "min_height": null,
            "min_width": null,
            "object_fit": null,
            "object_position": null,
            "order": null,
            "overflow": null,
            "overflow_x": null,
            "overflow_y": null,
            "padding": null,
            "right": null,
            "top": null,
            "visibility": null,
            "width": null
          }
        },
        "cff9951dd6514ccb9a10be36e78930ac": {
          "model_module": "@jupyter-widgets/controls",
          "model_name": "DescriptionStyleModel",
          "model_module_version": "1.5.0",
          "state": {
            "_model_module": "@jupyter-widgets/controls",
            "_model_module_version": "1.5.0",
            "_model_name": "DescriptionStyleModel",
            "_view_count": null,
            "_view_module": "@jupyter-widgets/base",
            "_view_module_version": "1.2.0",
            "_view_name": "StyleView",
            "description_width": ""
          }
        },
        "d9d595108ced4eb596100570f2c31d68": {
          "model_module": "@jupyter-widgets/controls",
          "model_name": "HBoxModel",
          "model_module_version": "1.5.0",
          "state": {
            "_dom_classes": [],
            "_model_module": "@jupyter-widgets/controls",
            "_model_module_version": "1.5.0",
            "_model_name": "HBoxModel",
            "_view_count": null,
            "_view_module": "@jupyter-widgets/controls",
            "_view_module_version": "1.5.0",
            "_view_name": "HBoxView",
            "box_style": "",
            "children": [
              "IPY_MODEL_d50620ad3d7940bf8d4400a55e56ec08",
              "IPY_MODEL_377def2bbc7d40838ee993464471d181",
              "IPY_MODEL_640d6187f5ce40f7b8e842ee141d287f"
            ],
            "layout": "IPY_MODEL_ddfdd22237e745e9a7a24745eba242e5"
          }
        },
        "d50620ad3d7940bf8d4400a55e56ec08": {
          "model_module": "@jupyter-widgets/controls",
          "model_name": "HTMLModel",
          "model_module_version": "1.5.0",
          "state": {
            "_dom_classes": [],
            "_model_module": "@jupyter-widgets/controls",
            "_model_module_version": "1.5.0",
            "_model_name": "HTMLModel",
            "_view_count": null,
            "_view_module": "@jupyter-widgets/controls",
            "_view_module_version": "1.5.0",
            "_view_name": "HTMLView",
            "description": "",
            "description_tooltip": null,
            "layout": "IPY_MODEL_ab4662240e4c44e2b2c48202c56cf896",
            "placeholder": "​",
            "style": "IPY_MODEL_be0cf274b65e4530ac487f53c9401f57",
            "value": "model-00001-of-00002.safetensors: 100%"
          }
        },
        "377def2bbc7d40838ee993464471d181": {
          "model_module": "@jupyter-widgets/controls",
          "model_name": "FloatProgressModel",
          "model_module_version": "1.5.0",
          "state": {
            "_dom_classes": [],
            "_model_module": "@jupyter-widgets/controls",
            "_model_module_version": "1.5.0",
            "_model_name": "FloatProgressModel",
            "_view_count": null,
            "_view_module": "@jupyter-widgets/controls",
            "_view_module_version": "1.5.0",
            "_view_name": "ProgressView",
            "bar_style": "success",
            "description": "",
            "description_tooltip": null,
            "layout": "IPY_MODEL_bf3485cc2c184342a949b134ff95af87",
            "max": 4999906800,
            "min": 0,
            "orientation": "horizontal",
            "style": "IPY_MODEL_e1827c0ec2eb4042a6b94cf776414942",
            "value": 4999906800
          }
        },
        "640d6187f5ce40f7b8e842ee141d287f": {
          "model_module": "@jupyter-widgets/controls",
          "model_name": "HTMLModel",
          "model_module_version": "1.5.0",
          "state": {
            "_dom_classes": [],
            "_model_module": "@jupyter-widgets/controls",
            "_model_module_version": "1.5.0",
            "_model_name": "HTMLModel",
            "_view_count": null,
            "_view_module": "@jupyter-widgets/controls",
            "_view_module_version": "1.5.0",
            "_view_name": "HTMLView",
            "description": "",
            "description_tooltip": null,
            "layout": "IPY_MODEL_e48f5db038e34b05b5731ae5fbb3fcdc",
            "placeholder": "​",
            "style": "IPY_MODEL_b559b04834df49abad369372895a863d",
            "value": " 5.00G/5.00G [01:58&lt;00:00, 40.9MB/s]"
          }
        },
        "ddfdd22237e745e9a7a24745eba242e5": {
          "model_module": "@jupyter-widgets/base",
          "model_name": "LayoutModel",
          "model_module_version": "1.2.0",
          "state": {
            "_model_module": "@jupyter-widgets/base",
            "_model_module_version": "1.2.0",
            "_model_name": "LayoutModel",
            "_view_count": null,
            "_view_module": "@jupyter-widgets/base",
            "_view_module_version": "1.2.0",
            "_view_name": "LayoutView",
            "align_content": null,
            "align_items": null,
            "align_self": null,
            "border": null,
            "bottom": null,
            "display": null,
            "flex": null,
            "flex_flow": null,
            "grid_area": null,
            "grid_auto_columns": null,
            "grid_auto_flow": null,
            "grid_auto_rows": null,
            "grid_column": null,
            "grid_gap": null,
            "grid_row": null,
            "grid_template_areas": null,
            "grid_template_columns": null,
            "grid_template_rows": null,
            "height": null,
            "justify_content": null,
            "justify_items": null,
            "left": null,
            "margin": null,
            "max_height": null,
            "max_width": null,
            "min_height": null,
            "min_width": null,
            "object_fit": null,
            "object_position": null,
            "order": null,
            "overflow": null,
            "overflow_x": null,
            "overflow_y": null,
            "padding": null,
            "right": null,
            "top": null,
            "visibility": null,
            "width": null
          }
        },
        "ab4662240e4c44e2b2c48202c56cf896": {
          "model_module": "@jupyter-widgets/base",
          "model_name": "LayoutModel",
          "model_module_version": "1.2.0",
          "state": {
            "_model_module": "@jupyter-widgets/base",
            "_model_module_version": "1.2.0",
            "_model_name": "LayoutModel",
            "_view_count": null,
            "_view_module": "@jupyter-widgets/base",
            "_view_module_version": "1.2.0",
            "_view_name": "LayoutView",
            "align_content": null,
            "align_items": null,
            "align_self": null,
            "border": null,
            "bottom": null,
            "display": null,
            "flex": null,
            "flex_flow": null,
            "grid_area": null,
            "grid_auto_columns": null,
            "grid_auto_flow": null,
            "grid_auto_rows": null,
            "grid_column": null,
            "grid_gap": null,
            "grid_row": null,
            "grid_template_areas": null,
            "grid_template_columns": null,
            "grid_template_rows": null,
            "height": null,
            "justify_content": null,
            "justify_items": null,
            "left": null,
            "margin": null,
            "max_height": null,
            "max_width": null,
            "min_height": null,
            "min_width": null,
            "object_fit": null,
            "object_position": null,
            "order": null,
            "overflow": null,
            "overflow_x": null,
            "overflow_y": null,
            "padding": null,
            "right": null,
            "top": null,
            "visibility": null,
            "width": null
          }
        },
        "be0cf274b65e4530ac487f53c9401f57": {
          "model_module": "@jupyter-widgets/controls",
          "model_name": "DescriptionStyleModel",
          "model_module_version": "1.5.0",
          "state": {
            "_model_module": "@jupyter-widgets/controls",
            "_model_module_version": "1.5.0",
            "_model_name": "DescriptionStyleModel",
            "_view_count": null,
            "_view_module": "@jupyter-widgets/base",
            "_view_module_version": "1.2.0",
            "_view_name": "StyleView",
            "description_width": ""
          }
        },
        "bf3485cc2c184342a949b134ff95af87": {
          "model_module": "@jupyter-widgets/base",
          "model_name": "LayoutModel",
          "model_module_version": "1.2.0",
          "state": {
            "_model_module": "@jupyter-widgets/base",
            "_model_module_version": "1.2.0",
            "_model_name": "LayoutModel",
            "_view_count": null,
            "_view_module": "@jupyter-widgets/base",
            "_view_module_version": "1.2.0",
            "_view_name": "LayoutView",
            "align_content": null,
            "align_items": null,
            "align_self": null,
            "border": null,
            "bottom": null,
            "display": null,
            "flex": null,
            "flex_flow": null,
            "grid_area": null,
            "grid_auto_columns": null,
            "grid_auto_flow": null,
            "grid_auto_rows": null,
            "grid_column": null,
            "grid_gap": null,
            "grid_row": null,
            "grid_template_areas": null,
            "grid_template_columns": null,
            "grid_template_rows": null,
            "height": null,
            "justify_content": null,
            "justify_items": null,
            "left": null,
            "margin": null,
            "max_height": null,
            "max_width": null,
            "min_height": null,
            "min_width": null,
            "object_fit": null,
            "object_position": null,
            "order": null,
            "overflow": null,
            "overflow_x": null,
            "overflow_y": null,
            "padding": null,
            "right": null,
            "top": null,
            "visibility": null,
            "width": null
          }
        },
        "e1827c0ec2eb4042a6b94cf776414942": {
          "model_module": "@jupyter-widgets/controls",
          "model_name": "ProgressStyleModel",
          "model_module_version": "1.5.0",
          "state": {
            "_model_module": "@jupyter-widgets/controls",
            "_model_module_version": "1.5.0",
            "_model_name": "ProgressStyleModel",
            "_view_count": null,
            "_view_module": "@jupyter-widgets/base",
            "_view_module_version": "1.2.0",
            "_view_name": "StyleView",
            "bar_color": null,
            "description_width": ""
          }
        },
        "e48f5db038e34b05b5731ae5fbb3fcdc": {
          "model_module": "@jupyter-widgets/base",
          "model_name": "LayoutModel",
          "model_module_version": "1.2.0",
          "state": {
            "_model_module": "@jupyter-widgets/base",
            "_model_module_version": "1.2.0",
            "_model_name": "LayoutModel",
            "_view_count": null,
            "_view_module": "@jupyter-widgets/base",
            "_view_module_version": "1.2.0",
            "_view_name": "LayoutView",
            "align_content": null,
            "align_items": null,
            "align_self": null,
            "border": null,
            "bottom": null,
            "display": null,
            "flex": null,
            "flex_flow": null,
            "grid_area": null,
            "grid_auto_columns": null,
            "grid_auto_flow": null,
            "grid_auto_rows": null,
            "grid_column": null,
            "grid_gap": null,
            "grid_row": null,
            "grid_template_areas": null,
            "grid_template_columns": null,
            "grid_template_rows": null,
            "height": null,
            "justify_content": null,
            "justify_items": null,
            "left": null,
            "margin": null,
            "max_height": null,
            "max_width": null,
            "min_height": null,
            "min_width": null,
            "object_fit": null,
            "object_position": null,
            "order": null,
            "overflow": null,
            "overflow_x": null,
            "overflow_y": null,
            "padding": null,
            "right": null,
            "top": null,
            "visibility": null,
            "width": null
          }
        },
        "b559b04834df49abad369372895a863d": {
          "model_module": "@jupyter-widgets/controls",
          "model_name": "DescriptionStyleModel",
          "model_module_version": "1.5.0",
          "state": {
            "_model_module": "@jupyter-widgets/controls",
            "_model_module_version": "1.5.0",
            "_model_name": "DescriptionStyleModel",
            "_view_count": null,
            "_view_module": "@jupyter-widgets/base",
            "_view_module_version": "1.2.0",
            "_view_name": "StyleView",
            "description_width": ""
          }
        },
        "e16868e5c1d144b1a82bb50823989c09": {
          "model_module": "@jupyter-widgets/controls",
          "model_name": "HBoxModel",
          "model_module_version": "1.5.0",
          "state": {
            "_dom_classes": [],
            "_model_module": "@jupyter-widgets/controls",
            "_model_module_version": "1.5.0",
            "_model_name": "HBoxModel",
            "_view_count": null,
            "_view_module": "@jupyter-widgets/controls",
            "_view_module_version": "1.5.0",
            "_view_name": "HBoxView",
            "box_style": "",
            "children": [
              "IPY_MODEL_066bccd098804e35ac6fc429236656d1",
              "IPY_MODEL_6199aed1b8a9423ea5cbd3817bd956ed",
              "IPY_MODEL_568c3aa00da24b029129b7c30f757753"
            ],
            "layout": "IPY_MODEL_1ff8adad9165478392c856441a8342ac"
          }
        },
        "066bccd098804e35ac6fc429236656d1": {
          "model_module": "@jupyter-widgets/controls",
          "model_name": "HTMLModel",
          "model_module_version": "1.5.0",
          "state": {
            "_dom_classes": [],
            "_model_module": "@jupyter-widgets/controls",
            "_model_module_version": "1.5.0",
            "_model_name": "HTMLModel",
            "_view_count": null,
            "_view_module": "@jupyter-widgets/controls",
            "_view_module_version": "1.5.0",
            "_view_name": "HTMLView",
            "description": "",
            "description_tooltip": null,
            "layout": "IPY_MODEL_e276a90b996e4fa3952967189dda312e",
            "placeholder": "​",
            "style": "IPY_MODEL_fb09403c5d354bbe99c5d89ee44faa22",
            "value": "model-00002-of-00002.safetensors: 100%"
          }
        },
        "6199aed1b8a9423ea5cbd3817bd956ed": {
          "model_module": "@jupyter-widgets/controls",
          "model_name": "FloatProgressModel",
          "model_module_version": "1.5.0",
          "state": {
            "_dom_classes": [],
            "_model_module": "@jupyter-widgets/controls",
            "_model_module_version": "1.5.0",
            "_model_name": "FloatProgressModel",
            "_view_count": null,
            "_view_module": "@jupyter-widgets/controls",
            "_view_module_version": "1.5.0",
            "_view_name": "ProgressView",
            "bar_style": "success",
            "description": "",
            "description_tooltip": null,
            "layout": "IPY_MODEL_642c4667343f44ab9f4f92d91858171d",
            "max": 1845623728,
            "min": 0,
            "orientation": "horizontal",
            "style": "IPY_MODEL_6335a435861241ca9d79ed8591247a85",
            "value": 1845623728
          }
        },
        "568c3aa00da24b029129b7c30f757753": {
          "model_module": "@jupyter-widgets/controls",
          "model_name": "HTMLModel",
          "model_module_version": "1.5.0",
          "state": {
            "_dom_classes": [],
            "_model_module": "@jupyter-widgets/controls",
            "_model_module_version": "1.5.0",
            "_model_name": "HTMLModel",
            "_view_count": null,
            "_view_module": "@jupyter-widgets/controls",
            "_view_module_version": "1.5.0",
            "_view_name": "HTMLView",
            "description": "",
            "description_tooltip": null,
            "layout": "IPY_MODEL_60ed4bf72a82486aa1272fa54b44f1d9",
            "placeholder": "​",
            "style": "IPY_MODEL_6c259978bfb8403bad6d9da690eee130",
            "value": " 1.85G/1.85G [00:43&lt;00:00, 39.2MB/s]"
          }
        },
        "1ff8adad9165478392c856441a8342ac": {
          "model_module": "@jupyter-widgets/base",
          "model_name": "LayoutModel",
          "model_module_version": "1.2.0",
          "state": {
            "_model_module": "@jupyter-widgets/base",
            "_model_module_version": "1.2.0",
            "_model_name": "LayoutModel",
            "_view_count": null,
            "_view_module": "@jupyter-widgets/base",
            "_view_module_version": "1.2.0",
            "_view_name": "LayoutView",
            "align_content": null,
            "align_items": null,
            "align_self": null,
            "border": null,
            "bottom": null,
            "display": null,
            "flex": null,
            "flex_flow": null,
            "grid_area": null,
            "grid_auto_columns": null,
            "grid_auto_flow": null,
            "grid_auto_rows": null,
            "grid_column": null,
            "grid_gap": null,
            "grid_row": null,
            "grid_template_areas": null,
            "grid_template_columns": null,
            "grid_template_rows": null,
            "height": null,
            "justify_content": null,
            "justify_items": null,
            "left": null,
            "margin": null,
            "max_height": null,
            "max_width": null,
            "min_height": null,
            "min_width": null,
            "object_fit": null,
            "object_position": null,
            "order": null,
            "overflow": null,
            "overflow_x": null,
            "overflow_y": null,
            "padding": null,
            "right": null,
            "top": null,
            "visibility": null,
            "width": null
          }
        },
        "e276a90b996e4fa3952967189dda312e": {
          "model_module": "@jupyter-widgets/base",
          "model_name": "LayoutModel",
          "model_module_version": "1.2.0",
          "state": {
            "_model_module": "@jupyter-widgets/base",
            "_model_module_version": "1.2.0",
            "_model_name": "LayoutModel",
            "_view_count": null,
            "_view_module": "@jupyter-widgets/base",
            "_view_module_version": "1.2.0",
            "_view_name": "LayoutView",
            "align_content": null,
            "align_items": null,
            "align_self": null,
            "border": null,
            "bottom": null,
            "display": null,
            "flex": null,
            "flex_flow": null,
            "grid_area": null,
            "grid_auto_columns": null,
            "grid_auto_flow": null,
            "grid_auto_rows": null,
            "grid_column": null,
            "grid_gap": null,
            "grid_row": null,
            "grid_template_areas": null,
            "grid_template_columns": null,
            "grid_template_rows": null,
            "height": null,
            "justify_content": null,
            "justify_items": null,
            "left": null,
            "margin": null,
            "max_height": null,
            "max_width": null,
            "min_height": null,
            "min_width": null,
            "object_fit": null,
            "object_position": null,
            "order": null,
            "overflow": null,
            "overflow_x": null,
            "overflow_y": null,
            "padding": null,
            "right": null,
            "top": null,
            "visibility": null,
            "width": null
          }
        },
        "fb09403c5d354bbe99c5d89ee44faa22": {
          "model_module": "@jupyter-widgets/controls",
          "model_name": "DescriptionStyleModel",
          "model_module_version": "1.5.0",
          "state": {
            "_model_module": "@jupyter-widgets/controls",
            "_model_module_version": "1.5.0",
            "_model_name": "DescriptionStyleModel",
            "_view_count": null,
            "_view_module": "@jupyter-widgets/base",
            "_view_module_version": "1.2.0",
            "_view_name": "StyleView",
            "description_width": ""
          }
        },
        "642c4667343f44ab9f4f92d91858171d": {
          "model_module": "@jupyter-widgets/base",
          "model_name": "LayoutModel",
          "model_module_version": "1.2.0",
          "state": {
            "_model_module": "@jupyter-widgets/base",
            "_model_module_version": "1.2.0",
            "_model_name": "LayoutModel",
            "_view_count": null,
            "_view_module": "@jupyter-widgets/base",
            "_view_module_version": "1.2.0",
            "_view_name": "LayoutView",
            "align_content": null,
            "align_items": null,
            "align_self": null,
            "border": null,
            "bottom": null,
            "display": null,
            "flex": null,
            "flex_flow": null,
            "grid_area": null,
            "grid_auto_columns": null,
            "grid_auto_flow": null,
            "grid_auto_rows": null,
            "grid_column": null,
            "grid_gap": null,
            "grid_row": null,
            "grid_template_areas": null,
            "grid_template_columns": null,
            "grid_template_rows": null,
            "height": null,
            "justify_content": null,
            "justify_items": null,
            "left": null,
            "margin": null,
            "max_height": null,
            "max_width": null,
            "min_height": null,
            "min_width": null,
            "object_fit": null,
            "object_position": null,
            "order": null,
            "overflow": null,
            "overflow_x": null,
            "overflow_y": null,
            "padding": null,
            "right": null,
            "top": null,
            "visibility": null,
            "width": null
          }
        },
        "6335a435861241ca9d79ed8591247a85": {
          "model_module": "@jupyter-widgets/controls",
          "model_name": "ProgressStyleModel",
          "model_module_version": "1.5.0",
          "state": {
            "_model_module": "@jupyter-widgets/controls",
            "_model_module_version": "1.5.0",
            "_model_name": "ProgressStyleModel",
            "_view_count": null,
            "_view_module": "@jupyter-widgets/base",
            "_view_module_version": "1.2.0",
            "_view_name": "StyleView",
            "bar_color": null,
            "description_width": ""
          }
        },
        "60ed4bf72a82486aa1272fa54b44f1d9": {
          "model_module": "@jupyter-widgets/base",
          "model_name": "LayoutModel",
          "model_module_version": "1.2.0",
          "state": {
            "_model_module": "@jupyter-widgets/base",
            "_model_module_version": "1.2.0",
            "_model_name": "LayoutModel",
            "_view_count": null,
            "_view_module": "@jupyter-widgets/base",
            "_view_module_version": "1.2.0",
            "_view_name": "LayoutView",
            "align_content": null,
            "align_items": null,
            "align_self": null,
            "border": null,
            "bottom": null,
            "display": null,
            "flex": null,
            "flex_flow": null,
            "grid_area": null,
            "grid_auto_columns": null,
            "grid_auto_flow": null,
            "grid_auto_rows": null,
            "grid_column": null,
            "grid_gap": null,
            "grid_row": null,
            "grid_template_areas": null,
            "grid_template_columns": null,
            "grid_template_rows": null,
            "height": null,
            "justify_content": null,
            "justify_items": null,
            "left": null,
            "margin": null,
            "max_height": null,
            "max_width": null,
            "min_height": null,
            "min_width": null,
            "object_fit": null,
            "object_position": null,
            "order": null,
            "overflow": null,
            "overflow_x": null,
            "overflow_y": null,
            "padding": null,
            "right": null,
            "top": null,
            "visibility": null,
            "width": null
          }
        },
        "6c259978bfb8403bad6d9da690eee130": {
          "model_module": "@jupyter-widgets/controls",
          "model_name": "DescriptionStyleModel",
          "model_module_version": "1.5.0",
          "state": {
            "_model_module": "@jupyter-widgets/controls",
            "_model_module_version": "1.5.0",
            "_model_name": "DescriptionStyleModel",
            "_view_count": null,
            "_view_module": "@jupyter-widgets/base",
            "_view_module_version": "1.2.0",
            "_view_name": "StyleView",
            "description_width": ""
          }
        },
        "093c091555f5490ba54cf12f68bdde40": {
          "model_module": "@jupyter-widgets/controls",
          "model_name": "HBoxModel",
          "model_module_version": "1.5.0",
          "state": {
            "_dom_classes": [],
            "_model_module": "@jupyter-widgets/controls",
            "_model_module_version": "1.5.0",
            "_model_name": "HBoxModel",
            "_view_count": null,
            "_view_module": "@jupyter-widgets/controls",
            "_view_module_version": "1.5.0",
            "_view_name": "HBoxView",
            "box_style": "",
            "children": [
              "IPY_MODEL_ba901fd54a2a4660b5d330142cfe58bd",
              "IPY_MODEL_59f3a4eba4f0458a99b03f06fe06dc1a",
              "IPY_MODEL_05a480f306924f26959fafd77dff3b71"
            ],
            "layout": "IPY_MODEL_9a5ce40927e2419a81b602876e146822"
          }
        },
        "ba901fd54a2a4660b5d330142cfe58bd": {
          "model_module": "@jupyter-widgets/controls",
          "model_name": "HTMLModel",
          "model_module_version": "1.5.0",
          "state": {
            "_dom_classes": [],
            "_model_module": "@jupyter-widgets/controls",
            "_model_module_version": "1.5.0",
            "_model_name": "HTMLModel",
            "_view_count": null,
            "_view_module": "@jupyter-widgets/controls",
            "_view_module_version": "1.5.0",
            "_view_name": "HTMLView",
            "description": "",
            "description_tooltip": null,
            "layout": "IPY_MODEL_6e00232992da4665a5a84bbbe4d3b795",
            "placeholder": "​",
            "style": "IPY_MODEL_9d037a18786e46ae87ba08ea0e752d44",
            "value": "Loading checkpoint shards: 100%"
          }
        },
        "59f3a4eba4f0458a99b03f06fe06dc1a": {
          "model_module": "@jupyter-widgets/controls",
          "model_name": "FloatProgressModel",
          "model_module_version": "1.5.0",
          "state": {
            "_dom_classes": [],
            "_model_module": "@jupyter-widgets/controls",
            "_model_module_version": "1.5.0",
            "_model_name": "FloatProgressModel",
            "_view_count": null,
            "_view_module": "@jupyter-widgets/controls",
            "_view_module_version": "1.5.0",
            "_view_name": "ProgressView",
            "bar_style": "success",
            "description": "",
            "description_tooltip": null,
            "layout": "IPY_MODEL_297478fef1c3472885794afddde992a3",
            "max": 2,
            "min": 0,
            "orientation": "horizontal",
            "style": "IPY_MODEL_18bd52674ae8416699cf6fb07b52ab17",
            "value": 2
          }
        },
        "05a480f306924f26959fafd77dff3b71": {
          "model_module": "@jupyter-widgets/controls",
          "model_name": "HTMLModel",
          "model_module_version": "1.5.0",
          "state": {
            "_dom_classes": [],
            "_model_module": "@jupyter-widgets/controls",
            "_model_module_version": "1.5.0",
            "_model_name": "HTMLModel",
            "_view_count": null,
            "_view_module": "@jupyter-widgets/controls",
            "_view_module_version": "1.5.0",
            "_view_name": "HTMLView",
            "description": "",
            "description_tooltip": null,
            "layout": "IPY_MODEL_ae1be58eaece453b96fb0f352bcdec3d",
            "placeholder": "​",
            "style": "IPY_MODEL_f67ea41c9d264b6cbb86c257761bf210",
            "value": " 2/2 [00:01&lt;00:00,  1.59it/s]"
          }
        },
        "9a5ce40927e2419a81b602876e146822": {
          "model_module": "@jupyter-widgets/base",
          "model_name": "LayoutModel",
          "model_module_version": "1.2.0",
          "state": {
            "_model_module": "@jupyter-widgets/base",
            "_model_module_version": "1.2.0",
            "_model_name": "LayoutModel",
            "_view_count": null,
            "_view_module": "@jupyter-widgets/base",
            "_view_module_version": "1.2.0",
            "_view_name": "LayoutView",
            "align_content": null,
            "align_items": null,
            "align_self": null,
            "border": null,
            "bottom": null,
            "display": null,
            "flex": null,
            "flex_flow": null,
            "grid_area": null,
            "grid_auto_columns": null,
            "grid_auto_flow": null,
            "grid_auto_rows": null,
            "grid_column": null,
            "grid_gap": null,
            "grid_row": null,
            "grid_template_areas": null,
            "grid_template_columns": null,
            "grid_template_rows": null,
            "height": null,
            "justify_content": null,
            "justify_items": null,
            "left": null,
            "margin": null,
            "max_height": null,
            "max_width": null,
            "min_height": null,
            "min_width": null,
            "object_fit": null,
            "object_position": null,
            "order": null,
            "overflow": null,
            "overflow_x": null,
            "overflow_y": null,
            "padding": null,
            "right": null,
            "top": null,
            "visibility": null,
            "width": null
          }
        },
        "6e00232992da4665a5a84bbbe4d3b795": {
          "model_module": "@jupyter-widgets/base",
          "model_name": "LayoutModel",
          "model_module_version": "1.2.0",
          "state": {
            "_model_module": "@jupyter-widgets/base",
            "_model_module_version": "1.2.0",
            "_model_name": "LayoutModel",
            "_view_count": null,
            "_view_module": "@jupyter-widgets/base",
            "_view_module_version": "1.2.0",
            "_view_name": "LayoutView",
            "align_content": null,
            "align_items": null,
            "align_self": null,
            "border": null,
            "bottom": null,
            "display": null,
            "flex": null,
            "flex_flow": null,
            "grid_area": null,
            "grid_auto_columns": null,
            "grid_auto_flow": null,
            "grid_auto_rows": null,
            "grid_column": null,
            "grid_gap": null,
            "grid_row": null,
            "grid_template_areas": null,
            "grid_template_columns": null,
            "grid_template_rows": null,
            "height": null,
            "justify_content": null,
            "justify_items": null,
            "left": null,
            "margin": null,
            "max_height": null,
            "max_width": null,
            "min_height": null,
            "min_width": null,
            "object_fit": null,
            "object_position": null,
            "order": null,
            "overflow": null,
            "overflow_x": null,
            "overflow_y": null,
            "padding": null,
            "right": null,
            "top": null,
            "visibility": null,
            "width": null
          }
        },
        "9d037a18786e46ae87ba08ea0e752d44": {
          "model_module": "@jupyter-widgets/controls",
          "model_name": "DescriptionStyleModel",
          "model_module_version": "1.5.0",
          "state": {
            "_model_module": "@jupyter-widgets/controls",
            "_model_module_version": "1.5.0",
            "_model_name": "DescriptionStyleModel",
            "_view_count": null,
            "_view_module": "@jupyter-widgets/base",
            "_view_module_version": "1.2.0",
            "_view_name": "StyleView",
            "description_width": ""
          }
        },
        "297478fef1c3472885794afddde992a3": {
          "model_module": "@jupyter-widgets/base",
          "model_name": "LayoutModel",
          "model_module_version": "1.2.0",
          "state": {
            "_model_module": "@jupyter-widgets/base",
            "_model_module_version": "1.2.0",
            "_model_name": "LayoutModel",
            "_view_count": null,
            "_view_module": "@jupyter-widgets/base",
            "_view_module_version": "1.2.0",
            "_view_name": "LayoutView",
            "align_content": null,
            "align_items": null,
            "align_self": null,
            "border": null,
            "bottom": null,
            "display": null,
            "flex": null,
            "flex_flow": null,
            "grid_area": null,
            "grid_auto_columns": null,
            "grid_auto_flow": null,
            "grid_auto_rows": null,
            "grid_column": null,
            "grid_gap": null,
            "grid_row": null,
            "grid_template_areas": null,
            "grid_template_columns": null,
            "grid_template_rows": null,
            "height": null,
            "justify_content": null,
            "justify_items": null,
            "left": null,
            "margin": null,
            "max_height": null,
            "max_width": null,
            "min_height": null,
            "min_width": null,
            "object_fit": null,
            "object_position": null,
            "order": null,
            "overflow": null,
            "overflow_x": null,
            "overflow_y": null,
            "padding": null,
            "right": null,
            "top": null,
            "visibility": null,
            "width": null
          }
        },
        "18bd52674ae8416699cf6fb07b52ab17": {
          "model_module": "@jupyter-widgets/controls",
          "model_name": "ProgressStyleModel",
          "model_module_version": "1.5.0",
          "state": {
            "_model_module": "@jupyter-widgets/controls",
            "_model_module_version": "1.5.0",
            "_model_name": "ProgressStyleModel",
            "_view_count": null,
            "_view_module": "@jupyter-widgets/base",
            "_view_module_version": "1.2.0",
            "_view_name": "StyleView",
            "bar_color": null,
            "description_width": ""
          }
        },
        "ae1be58eaece453b96fb0f352bcdec3d": {
          "model_module": "@jupyter-widgets/base",
          "model_name": "LayoutModel",
          "model_module_version": "1.2.0",
          "state": {
            "_model_module": "@jupyter-widgets/base",
            "_model_module_version": "1.2.0",
            "_model_name": "LayoutModel",
            "_view_count": null,
            "_view_module": "@jupyter-widgets/base",
            "_view_module_version": "1.2.0",
            "_view_name": "LayoutView",
            "align_content": null,
            "align_items": null,
            "align_self": null,
            "border": null,
            "bottom": null,
            "display": null,
            "flex": null,
            "flex_flow": null,
            "grid_area": null,
            "grid_auto_columns": null,
            "grid_auto_flow": null,
            "grid_auto_rows": null,
            "grid_column": null,
            "grid_gap": null,
            "grid_row": null,
            "grid_template_areas": null,
            "grid_template_columns": null,
            "grid_template_rows": null,
            "height": null,
            "justify_content": null,
            "justify_items": null,
            "left": null,
            "margin": null,
            "max_height": null,
            "max_width": null,
            "min_height": null,
            "min_width": null,
            "object_fit": null,
            "object_position": null,
            "order": null,
            "overflow": null,
            "overflow_x": null,
            "overflow_y": null,
            "padding": null,
            "right": null,
            "top": null,
            "visibility": null,
            "width": null
          }
        },
        "f67ea41c9d264b6cbb86c257761bf210": {
          "model_module": "@jupyter-widgets/controls",
          "model_name": "DescriptionStyleModel",
          "model_module_version": "1.5.0",
          "state": {
            "_model_module": "@jupyter-widgets/controls",
            "_model_module_version": "1.5.0",
            "_model_name": "DescriptionStyleModel",
            "_view_count": null,
            "_view_module": "@jupyter-widgets/base",
            "_view_module_version": "1.2.0",
            "_view_name": "StyleView",
            "description_width": ""
          }
        },
        "63219ca7ed554d6f88e7325b100308c6": {
          "model_module": "@jupyter-widgets/controls",
          "model_name": "HBoxModel",
          "model_module_version": "1.5.0",
          "state": {
            "_dom_classes": [],
            "_model_module": "@jupyter-widgets/controls",
            "_model_module_version": "1.5.0",
            "_model_name": "HBoxModel",
            "_view_count": null,
            "_view_module": "@jupyter-widgets/controls",
            "_view_module_version": "1.5.0",
            "_view_name": "HBoxView",
            "box_style": "",
            "children": [
              "IPY_MODEL_355c6949f76745549f028c2270e1a960",
              "IPY_MODEL_bb1bd64fe2fb458bb86de3bde21fdf0d",
              "IPY_MODEL_807b2f061e47402eae58b2754579b011"
            ],
            "layout": "IPY_MODEL_ecd2305dca3a406bac75ef4c35cb9ed4"
          }
        },
        "355c6949f76745549f028c2270e1a960": {
          "model_module": "@jupyter-widgets/controls",
          "model_name": "HTMLModel",
          "model_module_version": "1.5.0",
          "state": {
            "_dom_classes": [],
            "_model_module": "@jupyter-widgets/controls",
            "_model_module_version": "1.5.0",
            "_model_name": "HTMLModel",
            "_view_count": null,
            "_view_module": "@jupyter-widgets/controls",
            "_view_module_version": "1.5.0",
            "_view_name": "HTMLView",
            "description": "",
            "description_tooltip": null,
            "layout": "IPY_MODEL_b6f62589bb8047c998c74cd5fe12141b",
            "placeholder": "​",
            "style": "IPY_MODEL_bfe4244bce28453ba8c3b6688b1d5c59",
            "value": "generation_config.json: 100%"
          }
        },
        "bb1bd64fe2fb458bb86de3bde21fdf0d": {
          "model_module": "@jupyter-widgets/controls",
          "model_name": "FloatProgressModel",
          "model_module_version": "1.5.0",
          "state": {
            "_dom_classes": [],
            "_model_module": "@jupyter-widgets/controls",
            "_model_module_version": "1.5.0",
            "_model_name": "FloatProgressModel",
            "_view_count": null,
            "_view_module": "@jupyter-widgets/controls",
            "_view_module_version": "1.5.0",
            "_view_name": "ProgressView",
            "bar_style": "success",
            "description": "",
            "description_tooltip": null,
            "layout": "IPY_MODEL_93a401e2630047d9b63dec3f181d98db",
            "max": 111,
            "min": 0,
            "orientation": "horizontal",
            "style": "IPY_MODEL_d3d2cb79d52e44c6b1efc0a87cb24b95",
            "value": 111
          }
        },
        "807b2f061e47402eae58b2754579b011": {
          "model_module": "@jupyter-widgets/controls",
          "model_name": "HTMLModel",
          "model_module_version": "1.5.0",
          "state": {
            "_dom_classes": [],
            "_model_module": "@jupyter-widgets/controls",
            "_model_module_version": "1.5.0",
            "_model_name": "HTMLModel",
            "_view_count": null,
            "_view_module": "@jupyter-widgets/controls",
            "_view_module_version": "1.5.0",
            "_view_name": "HTMLView",
            "description": "",
            "description_tooltip": null,
            "layout": "IPY_MODEL_04a31e5aa576483484ed673f8f7cca61",
            "placeholder": "​",
            "style": "IPY_MODEL_39a5bf3d42144cfc983a6e6172d5d5f0",
            "value": " 111/111 [00:00&lt;00:00, 2.72kB/s]"
          }
        },
        "ecd2305dca3a406bac75ef4c35cb9ed4": {
          "model_module": "@jupyter-widgets/base",
          "model_name": "LayoutModel",
          "model_module_version": "1.2.0",
          "state": {
            "_model_module": "@jupyter-widgets/base",
            "_model_module_version": "1.2.0",
            "_model_name": "LayoutModel",
            "_view_count": null,
            "_view_module": "@jupyter-widgets/base",
            "_view_module_version": "1.2.0",
            "_view_name": "LayoutView",
            "align_content": null,
            "align_items": null,
            "align_self": null,
            "border": null,
            "bottom": null,
            "display": null,
            "flex": null,
            "flex_flow": null,
            "grid_area": null,
            "grid_auto_columns": null,
            "grid_auto_flow": null,
            "grid_auto_rows": null,
            "grid_column": null,
            "grid_gap": null,
            "grid_row": null,
            "grid_template_areas": null,
            "grid_template_columns": null,
            "grid_template_rows": null,
            "height": null,
            "justify_content": null,
            "justify_items": null,
            "left": null,
            "margin": null,
            "max_height": null,
            "max_width": null,
            "min_height": null,
            "min_width": null,
            "object_fit": null,
            "object_position": null,
            "order": null,
            "overflow": null,
            "overflow_x": null,
            "overflow_y": null,
            "padding": null,
            "right": null,
            "top": null,
            "visibility": null,
            "width": null
          }
        },
        "b6f62589bb8047c998c74cd5fe12141b": {
          "model_module": "@jupyter-widgets/base",
          "model_name": "LayoutModel",
          "model_module_version": "1.2.0",
          "state": {
            "_model_module": "@jupyter-widgets/base",
            "_model_module_version": "1.2.0",
            "_model_name": "LayoutModel",
            "_view_count": null,
            "_view_module": "@jupyter-widgets/base",
            "_view_module_version": "1.2.0",
            "_view_name": "LayoutView",
            "align_content": null,
            "align_items": null,
            "align_self": null,
            "border": null,
            "bottom": null,
            "display": null,
            "flex": null,
            "flex_flow": null,
            "grid_area": null,
            "grid_auto_columns": null,
            "grid_auto_flow": null,
            "grid_auto_rows": null,
            "grid_column": null,
            "grid_gap": null,
            "grid_row": null,
            "grid_template_areas": null,
            "grid_template_columns": null,
            "grid_template_rows": null,
            "height": null,
            "justify_content": null,
            "justify_items": null,
            "left": null,
            "margin": null,
            "max_height": null,
            "max_width": null,
            "min_height": null,
            "min_width": null,
            "object_fit": null,
            "object_position": null,
            "order": null,
            "overflow": null,
            "overflow_x": null,
            "overflow_y": null,
            "padding": null,
            "right": null,
            "top": null,
            "visibility": null,
            "width": null
          }
        },
        "bfe4244bce28453ba8c3b6688b1d5c59": {
          "model_module": "@jupyter-widgets/controls",
          "model_name": "DescriptionStyleModel",
          "model_module_version": "1.5.0",
          "state": {
            "_model_module": "@jupyter-widgets/controls",
            "_model_module_version": "1.5.0",
            "_model_name": "DescriptionStyleModel",
            "_view_count": null,
            "_view_module": "@jupyter-widgets/base",
            "_view_module_version": "1.2.0",
            "_view_name": "StyleView",
            "description_width": ""
          }
        },
        "93a401e2630047d9b63dec3f181d98db": {
          "model_module": "@jupyter-widgets/base",
          "model_name": "LayoutModel",
          "model_module_version": "1.2.0",
          "state": {
            "_model_module": "@jupyter-widgets/base",
            "_model_module_version": "1.2.0",
            "_model_name": "LayoutModel",
            "_view_count": null,
            "_view_module": "@jupyter-widgets/base",
            "_view_module_version": "1.2.0",
            "_view_name": "LayoutView",
            "align_content": null,
            "align_items": null,
            "align_self": null,
            "border": null,
            "bottom": null,
            "display": null,
            "flex": null,
            "flex_flow": null,
            "grid_area": null,
            "grid_auto_columns": null,
            "grid_auto_flow": null,
            "grid_auto_rows": null,
            "grid_column": null,
            "grid_gap": null,
            "grid_row": null,
            "grid_template_areas": null,
            "grid_template_columns": null,
            "grid_template_rows": null,
            "height": null,
            "justify_content": null,
            "justify_items": null,
            "left": null,
            "margin": null,
            "max_height": null,
            "max_width": null,
            "min_height": null,
            "min_width": null,
            "object_fit": null,
            "object_position": null,
            "order": null,
            "overflow": null,
            "overflow_x": null,
            "overflow_y": null,
            "padding": null,
            "right": null,
            "top": null,
            "visibility": null,
            "width": null
          }
        },
        "d3d2cb79d52e44c6b1efc0a87cb24b95": {
          "model_module": "@jupyter-widgets/controls",
          "model_name": "ProgressStyleModel",
          "model_module_version": "1.5.0",
          "state": {
            "_model_module": "@jupyter-widgets/controls",
            "_model_module_version": "1.5.0",
            "_model_name": "ProgressStyleModel",
            "_view_count": null,
            "_view_module": "@jupyter-widgets/base",
            "_view_module_version": "1.2.0",
            "_view_name": "StyleView",
            "bar_color": null,
            "description_width": ""
          }
        },
        "04a31e5aa576483484ed673f8f7cca61": {
          "model_module": "@jupyter-widgets/base",
          "model_name": "LayoutModel",
          "model_module_version": "1.2.0",
          "state": {
            "_model_module": "@jupyter-widgets/base",
            "_model_module_version": "1.2.0",
            "_model_name": "LayoutModel",
            "_view_count": null,
            "_view_module": "@jupyter-widgets/base",
            "_view_module_version": "1.2.0",
            "_view_name": "LayoutView",
            "align_content": null,
            "align_items": null,
            "align_self": null,
            "border": null,
            "bottom": null,
            "display": null,
            "flex": null,
            "flex_flow": null,
            "grid_area": null,
            "grid_auto_columns": null,
            "grid_auto_flow": null,
            "grid_auto_rows": null,
            "grid_column": null,
            "grid_gap": null,
            "grid_row": null,
            "grid_template_areas": null,
            "grid_template_columns": null,
            "grid_template_rows": null,
            "height": null,
            "justify_content": null,
            "justify_items": null,
            "left": null,
            "margin": null,
            "max_height": null,
            "max_width": null,
            "min_height": null,
            "min_width": null,
            "object_fit": null,
            "object_position": null,
            "order": null,
            "overflow": null,
            "overflow_x": null,
            "overflow_y": null,
            "padding": null,
            "right": null,
            "top": null,
            "visibility": null,
            "width": null
          }
        },
        "39a5bf3d42144cfc983a6e6172d5d5f0": {
          "model_module": "@jupyter-widgets/controls",
          "model_name": "DescriptionStyleModel",
          "model_module_version": "1.5.0",
          "state": {
            "_model_module": "@jupyter-widgets/controls",
            "_model_module_version": "1.5.0",
            "_model_name": "DescriptionStyleModel",
            "_view_count": null,
            "_view_module": "@jupyter-widgets/base",
            "_view_module_version": "1.2.0",
            "_view_name": "StyleView",
            "description_width": ""
          }
        }
      }
    }
  },
  "nbformat": 4,
  "nbformat_minor": 0
}